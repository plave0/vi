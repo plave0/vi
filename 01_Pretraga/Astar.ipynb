{
 "cells": [
  {
   "cell_type": "markdown",
   "id": "5f472f3d",
   "metadata": {},
   "source": [
    "# Lojdova slagalica"
   ]
  },
  {
   "cell_type": "code",
   "execution_count": 38,
   "id": "3c6e71f2",
   "metadata": {},
   "outputs": [],
   "source": [
    "import copy\n",
    "from collections import defaultdict"
   ]
  },
  {
   "cell_type": "code",
   "execution_count": 16,
   "id": "fd1d219a",
   "metadata": {},
   "outputs": [],
   "source": [
    "def serialize(matrix):\n",
    "    result = []\n",
    "    for row in matrix:\n",
    "        for col in row:\n",
    "            result.append(str(col)) # [4,1,3,0,2,5,7,8,6]\n",
    "    return ':'.join(result)"
   ]
  },
  {
   "cell_type": "code",
   "execution_count": 17,
   "id": "dabb3a44",
   "metadata": {},
   "outputs": [],
   "source": [
    "def deserialize(state):\n",
    "    splited = state.split(':') # ['4', '1', '3', '0'...]\n",
    "    splited = [int(x) for x in splited]\n",
    "    return [splited[:3], splited[3:6], splited[6:]]"
   ]
  },
  {
   "cell_type": "code",
   "execution_count": 24,
   "id": "e671dad7",
   "metadata": {},
   "outputs": [],
   "source": [
    "# Funkcija vraca sve moguce naredne poteze u odnosu na tekuce trenutno stanje\n",
    "\n",
    "def get_neighbours(state):\n",
    "    matrix = deserialize(state)\n",
    "    blank_i, blank_j = -1, -1\n",
    "    \n",
    "    n = len(matrix)\n",
    "    for i in range(n):\n",
    "        for j in range(n):\n",
    "            if matrix[i][j] == 0:\n",
    "                blank_i, blank_j = i, j\n",
    "                break\n",
    "    \n",
    "    neighbours = []\n",
    "    if blank_i > 0:\n",
    "        new_matrix = copy.deepcopy(matrix)\n",
    "        new_matrix[blank_i][blank_j] = new_matrix[blank_i - 1][blank_j]\n",
    "        new_matrix[blank_i - 1][blank_j] = 0\n",
    "        neighbours.append(serialize(new_matrix))\n",
    "    \n",
    "    if blank_i < (n-1):\n",
    "        new_matrix = copy.deepcopy(matrix)\n",
    "        new_matrix[blank_i][blank_j] = new_matrix[blank_i + 1][blank_j]\n",
    "        new_matrix[blank_i + 1][blank_j] = 0\n",
    "        neighbours.append(serialize(new_matrix))\n",
    "    \n",
    "    if blank_j > 0:\n",
    "        new_matrix = copy.deepcopy(matrix)\n",
    "        new_matrix[blank_i][blank_j] = new_matrix[blank_i][blank_j - 1]\n",
    "        new_matrix[blank_i][blank_j - 1] = 0\n",
    "        neighbours.append(serialize(new_matrix))\n",
    "    \n",
    "    if blank_j < (n-1):\n",
    "        new_matrix = copy.deepcopy(matrix)\n",
    "        new_matrix[blank_i][blank_j] = new_matrix[blank_i][blank_j + 1]\n",
    "        new_matrix[blank_i][blank_j + 1] = 0\n",
    "        neighbours.append(serialize(new_matrix))\n",
    "    \n",
    "    return zip(neighbours, [1 for _ in neighbours])"
   ]
  },
  {
   "cell_type": "code",
   "execution_count": 23,
   "id": "02c0c533",
   "metadata": {},
   "outputs": [],
   "source": [
    "def get_next_node(open_set, heuristic_guess):\n",
    "    next_node = None\n",
    "    min_heuristic = float('inf')\n",
    "    for node in open_set:\n",
    "        if node in heuristic_guess:\n",
    "            guess = heuristic_guess[node]\n",
    "            if guess < min_heuristic:\n",
    "                min_heuristic = guess\n",
    "                next_node = node\n",
    "                \n",
    "    return next_node"
   ]
  },
  {
   "cell_type": "code",
   "execution_count": 22,
   "id": "58280fe4",
   "metadata": {},
   "outputs": [],
   "source": [
    "start_state = [\n",
    "    [4, 5, 1],\n",
    "    [2, 8, 3],\n",
    "    [7, 6, 0]\n",
    "]\n",
    "end_state = [\n",
    "    [1, 2, 3],\n",
    "    [4, 5, 6], \n",
    "    [7, 8, 0]\n",
    "]"
   ]
  },
  {
   "cell_type": "code",
   "execution_count": 46,
   "id": "49887d46",
   "metadata": {},
   "outputs": [],
   "source": [
    "def solve_loyd(start_state, end_state, h):\n",
    "    \n",
    "    start_state = serialize(start_state)\n",
    "    end_state = serialize(end_state)\n",
    "    \n",
    "    open_set = set()\n",
    "    open_set.add(start_state)\n",
    "    \n",
    "    parents = {}\n",
    "    parents[start_state] = None\n",
    "    \n",
    "    cheapest_path = defaultdict(lambda: float('inf'))\n",
    "    cheapest_path[start_state] = 0\n",
    "    \n",
    "    heuristic_guess = defaultdict(lambda: float('inf'))\n",
    "    heuristic_guess[start_state] = h(start_state)\n",
    "    \n",
    "    path_found = False\n",
    "    while len(open_set) > 0:\n",
    "        \n",
    "        current_state = get_next_node(open_set, heuristic_guess)\n",
    "        if current_state == end_state:\n",
    "            path_found = True\n",
    "            break\n",
    "            \n",
    "        open_set.remove(current_state)\n",
    "        for (neighbour, weight) in get_neighbours(current_state):\n",
    "            new_cheapest_weigth = cheapest_path[current_state] + weight\n",
    "            \n",
    "            if new_cheapest_weigth < cheapest_path[neighbour]:\n",
    "                \n",
    "                parents[neighbour] = current_state\n",
    "                cheapest_path[neighbour] = new_cheapest_weigth\n",
    "                heuristic_guess[neighbour] = new_cheapest_weigth + h(neighbour)\n",
    "                \n",
    "                if neighbour not in open_set:\n",
    "                    open_set.add(neighbour)\n",
    "                    \n",
    "    path = []\n",
    "    if path_found:\n",
    "        while end_state is not None:\n",
    "            path.append(end_state)\n",
    "            end_state = parents[end_state]\n",
    "        path.reverse()\n",
    "        \n",
    "    return path"
   ]
  },
  {
   "cell_type": "code",
   "execution_count": 47,
   "id": "ab940598",
   "metadata": {},
   "outputs": [],
   "source": [
    "def loyd_h(state):\n",
    "    state = deserialize(state)\n",
    "    H = 0\n",
    "    n = len(state)\n",
    "    for i in range(n):\n",
    "        for j in range(n):\n",
    "            H += abs(state[i][j] % n - j) + abs(state[i][j] / n - i)    \n",
    "    return H"
   ]
  },
  {
   "cell_type": "code",
   "execution_count": 48,
   "id": "7130e8c2",
   "metadata": {},
   "outputs": [],
   "source": [
    "p = solve_loyd(start_state, end_state, loyd_h)"
   ]
  },
  {
   "cell_type": "code",
   "execution_count": 52,
   "id": "7e921a9f",
   "metadata": {},
   "outputs": [
    {
     "name": "stdout",
     "output_type": "stream",
     "text": [
      "[4, 5, 1]\n",
      "[2, 8, 3]\n",
      "[7, 6, 0]\n",
      "\n",
      "[4, 5, 1]\n",
      "[2, 8, 3]\n",
      "[7, 0, 6]\n",
      "\n",
      "[4, 5, 1]\n",
      "[2, 0, 3]\n",
      "[7, 8, 6]\n",
      "\n",
      "[4, 0, 1]\n",
      "[2, 5, 3]\n",
      "[7, 8, 6]\n",
      "\n",
      "[4, 1, 0]\n",
      "[2, 5, 3]\n",
      "[7, 8, 6]\n",
      "\n",
      "[4, 1, 3]\n",
      "[2, 5, 0]\n",
      "[7, 8, 6]\n",
      "\n",
      "[4, 1, 3]\n",
      "[2, 0, 5]\n",
      "[7, 8, 6]\n",
      "\n",
      "[4, 1, 3]\n",
      "[0, 2, 5]\n",
      "[7, 8, 6]\n",
      "\n",
      "[0, 1, 3]\n",
      "[4, 2, 5]\n",
      "[7, 8, 6]\n",
      "\n",
      "[1, 0, 3]\n",
      "[4, 2, 5]\n",
      "[7, 8, 6]\n",
      "\n",
      "[1, 2, 3]\n",
      "[4, 0, 5]\n",
      "[7, 8, 6]\n",
      "\n",
      "[1, 2, 3]\n",
      "[4, 5, 0]\n",
      "[7, 8, 6]\n",
      "\n",
      "[1, 2, 3]\n",
      "[4, 5, 6]\n",
      "[7, 8, 0]\n",
      "\n"
     ]
    }
   ],
   "source": [
    "for state in p:\n",
    "    d_state = deserialize(state)\n",
    "    for row in d_state:\n",
    "        print(row)\n",
    "    print()"
   ]
  },
  {
   "cell_type": "code",
   "execution_count": null,
   "id": "f0fbd96f",
   "metadata": {},
   "outputs": [],
   "source": []
  }
 ],
 "metadata": {
  "kernelspec": {
   "display_name": "Python 3 (ipykernel)",
   "language": "python",
   "name": "python3"
  },
  "language_info": {
   "codemirror_mode": {
    "name": "ipython",
    "version": 3
   },
   "file_extension": ".py",
   "mimetype": "text/x-python",
   "name": "python",
   "nbconvert_exporter": "python",
   "pygments_lexer": "ipython3",
   "version": "3.10.2"
  }
 },
 "nbformat": 4,
 "nbformat_minor": 5
}

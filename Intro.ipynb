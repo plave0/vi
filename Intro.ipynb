{
 "cells": [
  {
   "cell_type": "code",
   "execution_count": 1,
   "id": "7242fc4c",
   "metadata": {},
   "outputs": [
    {
     "name": "stdout",
     "output_type": "stream",
     "text": [
      "intro\n"
     ]
    }
   ],
   "source": [
    "# Stampanje\n",
    "print(\"intro\")"
   ]
  },
  {
   "cell_type": "code",
   "execution_count": 2,
   "id": "d08c80f5",
   "metadata": {},
   "outputs": [
    {
     "name": "stdout",
     "output_type": "stream",
     "text": [
      "5\n"
     ]
    }
   ],
   "source": [
    "# Dodela\n",
    "a = 5\n",
    "print(a)"
   ]
  },
  {
   "cell_type": "code",
   "execution_count": 3,
   "id": "5ef27ebc",
   "metadata": {},
   "outputs": [
    {
     "name": "stdout",
     "output_type": "stream",
     "text": [
      "asd\n"
     ]
    }
   ],
   "source": [
    "# Slaba tipiziranost\n",
    "a = \"asd\"\n",
    "print(a)"
   ]
  },
  {
   "cell_type": "code",
   "execution_count": 4,
   "id": "dc956591",
   "metadata": {},
   "outputs": [
    {
     "name": "stdout",
     "output_type": "stream",
     "text": [
      "x = 5 y = 6\n"
     ]
    }
   ],
   "source": [
    "# Formatirani izlaz\n",
    "x = 5\n",
    "y = 6\n",
    "print(\"x = {} y = {}\".format(x,y))"
   ]
  },
  {
   "cell_type": "code",
   "execution_count": 5,
   "id": "7d16b02e",
   "metadata": {},
   "outputs": [
    {
     "name": "stdout",
     "output_type": "stream",
     "text": [
      "4\n"
     ]
    }
   ],
   "source": [
    "# Unos podataka\n",
    "a = input()"
   ]
  },
  {
   "cell_type": "code",
   "execution_count": null,
   "id": "8d105db6",
   "metadata": {},
   "outputs": [],
   "source": []
  },
  {
   "cell_type": "code",
   "execution_count": 6,
   "id": "ebdbf23a",
   "metadata": {},
   "outputs": [
    {
     "data": {
      "text/plain": [
       "'4'"
      ]
     },
     "execution_count": 6,
     "metadata": {},
     "output_type": "execute_result"
    }
   ],
   "source": [
    "# Ispit samo u jupyter svesci\n",
    "a"
   ]
  },
  {
   "cell_type": "code",
   "execution_count": 7,
   "id": "a4eb7cbe",
   "metadata": {},
   "outputs": [
    {
     "data": {
      "text/plain": [
       "str"
      ]
     },
     "execution_count": 7,
     "metadata": {},
     "output_type": "execute_result"
    }
   ],
   "source": [
    "# Tip promenljive\n",
    "type(a)"
   ]
  },
  {
   "cell_type": "code",
   "execution_count": 8,
   "id": "6464c0cc",
   "metadata": {},
   "outputs": [
    {
     "data": {
      "text/plain": [
       "int"
      ]
     },
     "execution_count": 8,
     "metadata": {},
     "output_type": "execute_result"
    }
   ],
   "source": [
    "# Kastovanje\n",
    "b = int(a)\n",
    "type(b)"
   ]
  },
  {
   "cell_type": "code",
   "execution_count": 9,
   "id": "35a59960",
   "metadata": {},
   "outputs": [
    {
     "name": "stdout",
     "output_type": "stream",
     "text": [
      "asdf\n",
      "Neispravna vrednost\n",
      "invalid literal for int() with base 10: 'asdf'\n"
     ]
    }
   ],
   "source": [
    "try:\n",
    "    x = int(input())\n",
    "except ValueError as e:\n",
    "    # Ne moramo da navodimo tip izuzetka\n",
    "    print(\"Neispravna vrednost\")\n",
    "    print(e)"
   ]
  },
  {
   "cell_type": "code",
   "execution_count": 10,
   "id": "c413d602",
   "metadata": {},
   "outputs": [],
   "source": [
    "# Dokumentacija\n",
    "?ValueError"
   ]
  },
  {
   "cell_type": "code",
   "execution_count": 12,
   "id": "90171684",
   "metadata": {},
   "outputs": [],
   "source": [
    "input_file = open(\"data/01in.txt\", \"r\")\n",
    "content = input_file.read() # Ceo sadrzaj testa\n",
    "content\n",
    "input_file.close()"
   ]
  },
  {
   "cell_type": "code",
   "execution_count": null,
   "id": "f3e6f4c2",
   "metadata": {},
   "outputs": [],
   "source": [
    "print(content)\n",
    "# Print lepo formatira tekst"
   ]
  },
  {
   "cell_type": "code",
   "execution_count": null,
   "id": "c56be5d9",
   "metadata": {},
   "outputs": [],
   "source": [
    "try:\n",
    "    input_file = open(\"out.txt\", \"r\") # Fajl ne postoji\n",
    "    content = input_file.read()\n",
    "    print(content)\n",
    "    input_file.close()\n",
    "except:\n",
    "    print(\"Open error\")"
   ]
  },
  {
   "cell_type": "code",
   "execution_count": null,
   "id": "9f0678e0",
   "metadata": {},
   "outputs": [],
   "source": [
    "# Alternativa za otvaranje fajla\n",
    "try:\n",
    "    # Kada se zavrsi with blok, resursi se oslobadjaju (fajl se zatvara)\n",
    "    with open(\"in.txt\", \"r\") as input_file:\n",
    "        print(input_file.read())\n",
    "except:\n",
    "    print(\"Error\")"
   ]
  },
  {
   "cell_type": "code",
   "execution_count": null,
   "id": "63f1746f",
   "metadata": {},
   "outputs": [],
   "source": [
    "# Pisanje u izlazni fajl\n",
    "try:\n",
    "    with open(\"out.txt\", \"w\") as output_file:\n",
    "        output_file.write(\"Output output\")\n",
    "except:\n",
    "    print(\"Error\")"
   ]
  },
  {
   "cell_type": "code",
   "execution_count": null,
   "id": "907ed79a",
   "metadata": {},
   "outputs": [],
   "source": [
    "# If elif else\n",
    "a = 5\n",
    "if a % 3 == 0:\n",
    "    print(\"3\")\n",
    "elif a % 2 == 0:\n",
    "    print(\"2\")\n",
    "else:\n",
    "    print(\"n\")"
   ]
  },
  {
   "cell_type": "code",
   "execution_count": null,
   "id": "d7a2b8c5",
   "metadata": {},
   "outputs": [],
   "source": [
    "# for\n",
    "for i in range(5):\n",
    "    print(i)"
   ]
  },
  {
   "cell_type": "code",
   "execution_count": null,
   "id": "095964dd",
   "metadata": {},
   "outputs": [],
   "source": [
    "# while\n",
    "i = 0\n",
    "while i < 5:\n",
    "    print(i)\n",
    "    i += 1"
   ]
  },
  {
   "cell_type": "code",
   "execution_count": null,
   "id": "10fcd134",
   "metadata": {},
   "outputs": [],
   "source": [
    "lista = [1, 2, 3 ,4]\n",
    "\n",
    "print(type(lista))\n",
    "\n",
    "lista\n",
    "\n",
    "print(len(lista))\n",
    "\n",
    "for i in lista:\n",
    "    # U foreach se dobija kopija\n",
    "    print(i, end=\" \")\n",
    "    "
   ]
  },
  {
   "cell_type": "code",
   "execution_count": null,
   "id": "b6a3a358",
   "metadata": {},
   "outputs": [],
   "source": [
    "kvadratna = [x*x for x in lista]\n",
    "kvadratna"
   ]
  },
  {
   "cell_type": "code",
   "execution_count": null,
   "id": "046cc039",
   "metadata": {},
   "outputs": [],
   "source": [
    "neparni = [x for x in lista if x % 2 == 1]\n",
    "neparni"
   ]
  },
  {
   "cell_type": "code",
   "execution_count": null,
   "id": "323edd5d",
   "metadata": {},
   "outputs": [],
   "source": [
    "list1  = [1,2,3,4]\n",
    "list2 = ['a', 'b', 'c', 'd']"
   ]
  },
  {
   "cell_type": "code",
   "execution_count": null,
   "id": "790aa334",
   "metadata": {},
   "outputs": [],
   "source": [
    "ziped = zip(list1, list2)\n",
    "for z in ziped:\n",
    "    print(z)\n",
    "    print(type(z))"
   ]
  },
  {
   "cell_type": "code",
   "execution_count": null,
   "id": "c784db1d",
   "metadata": {},
   "outputs": [],
   "source": [
    "list1 = [1, 2, 3, 4, 5]\n",
    "list1.reverse()\n",
    "print(list1)"
   ]
  },
  {
   "cell_type": "code",
   "execution_count": null,
   "id": "46138524",
   "metadata": {},
   "outputs": [],
   "source": [
    "list1 = [3, 4, 5, 1, 7, 9, -1]\n",
    "list1.sort()\n",
    "print(list1)"
   ]
  },
  {
   "cell_type": "code",
   "execution_count": null,
   "id": "a812ddb9",
   "metadata": {},
   "outputs": [],
   "source": [
    "print(list1[0:3])\n",
    "print(list1[:-1])"
   ]
  },
  {
   "cell_type": "code",
   "execution_count": null,
   "id": "a614a7c1",
   "metadata": {},
   "outputs": [],
   "source": [
    "mat = [[1,2,3], [4,5,6], [7,8,9]]\n",
    "print(mat)"
   ]
  },
  {
   "cell_type": "code",
   "execution_count": null,
   "id": "f5140122",
   "metadata": {},
   "outputs": [],
   "source": [
    "list1 = [1,2,3]\n",
    "list2 = [4,5,6]\n",
    "list3 = list1 + list2\n",
    "print(list3)"
   ]
  },
  {
   "cell_type": "code",
   "execution_count": null,
   "id": "52750924",
   "metadata": {},
   "outputs": [],
   "source": [
    "list3.append(9)\n",
    "print(list3)\n",
    "list3.pop()\n",
    "print(list3)"
   ]
  },
  {
   "cell_type": "code",
   "execution_count": null,
   "id": "56b4d1ed",
   "metadata": {},
   "outputs": [],
   "source": [
    "list3.insert(3, 56)\n",
    "print(list3)"
   ]
  },
  {
   "cell_type": "code",
   "execution_count": null,
   "id": "c7513526",
   "metadata": {},
   "outputs": [],
   "source": [
    "a = \"abc\"\n",
    "b = \"def\"\n",
    "print(a + b)"
   ]
  },
  {
   "cell_type": "code",
   "execution_count": null,
   "id": "98931435",
   "metadata": {},
   "outputs": [],
   "source": [
    "for c in a:\n",
    "    print(c, end=\" \")"
   ]
  },
  {
   "cell_type": "code",
   "execution_count": null,
   "id": "f2bd9d64",
   "metadata": {},
   "outputs": [],
   "source": [
    "import random\n"
   ]
  },
  {
   "cell_type": "code",
   "execution_count": null,
   "id": "f76ad147",
   "metadata": {},
   "outputs": [],
   "source": [
    "x = random.random()\n",
    "print(x)"
   ]
  },
  {
   "cell_type": "raw",
   "id": "984cda96",
   "metadata": {},
   "source": []
  },
  {
   "cell_type": "code",
   "execution_count": null,
   "id": "7403ba18",
   "metadata": {},
   "outputs": [],
   "source": [
    "random.randrange(1,4)"
   ]
  },
  {
   "cell_type": "code",
   "execution_count": null,
   "id": "92d30657",
   "metadata": {},
   "outputs": [],
   "source": [
    "x = random.choice(list3)\n",
    "print(x)"
   ]
  },
  {
   "cell_type": "code",
   "execution_count": null,
   "id": "2b569944",
   "metadata": {},
   "outputs": [],
   "source": [
    "s = random.sample(list3, 2)\n",
    "print(s)"
   ]
  },
  {
   "cell_type": "code",
   "execution_count": null,
   "id": "800f9f73",
   "metadata": {},
   "outputs": [],
   "source": []
  },
  {
   "cell_type": "code",
   "execution_count": null,
   "id": "bec4e717",
   "metadata": {},
   "outputs": [],
   "source": []
  }
 ],
 "metadata": {
  "kernelspec": {
   "display_name": "Python 3 (ipykernel)",
   "language": "python",
   "name": "python3"
  },
  "language_info": {
   "codemirror_mode": {
    "name": "ipython",
    "version": 3
   },
   "file_extension": ".py",
   "mimetype": "text/x-python",
   "name": "python",
   "nbconvert_exporter": "python",
   "pygments_lexer": "ipython3",
   "version": "3.9.9"
  }
 },
 "nbformat": 4,
 "nbformat_minor": 5
}

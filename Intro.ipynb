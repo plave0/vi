{
 "cells": [
  {
   "cell_type": "code",
   "execution_count": 1,
   "id": "7242fc4c",
   "metadata": {},
   "outputs": [
    {
     "name": "stdout",
     "output_type": "stream",
     "text": [
      "intro\n"
     ]
    }
   ],
   "source": [
    "# Stampanje\n",
    "print(\"intro\")"
   ]
  },
  {
   "cell_type": "code",
   "execution_count": 2,
   "id": "d08c80f5",
   "metadata": {},
   "outputs": [
    {
     "name": "stdout",
     "output_type": "stream",
     "text": [
      "5\n"
     ]
    }
   ],
   "source": [
    "# Dodela\n",
    "a = 5\n",
    "print(a)"
   ]
  },
  {
   "cell_type": "code",
   "execution_count": 3,
   "id": "5ef27ebc",
   "metadata": {},
   "outputs": [
    {
     "name": "stdout",
     "output_type": "stream",
     "text": [
      "asd\n"
     ]
    }
   ],
   "source": [
    "# Slaba tipiziranost\n",
    "a = \"asd\"\n",
    "print(a)"
   ]
  },
  {
   "cell_type": "code",
   "execution_count": 2,
   "id": "dc956591",
   "metadata": {},
   "outputs": [
    {
     "name": "stdout",
     "output_type": "stream",
     "text": [
      "x = 5 y = 6\n"
     ]
    }
   ],
   "source": [
    "# Formatirani izlaz\n",
    "x = 5\n",
    "y = 6\n",
    "print(f\"x = {x} y = {y}\")"
   ]
  },
  {
   "cell_type": "code",
   "execution_count": 108,
   "id": "7d16b02e",
   "metadata": {},
   "outputs": [
    {
     "name": "stdout",
     "output_type": "stream",
     "text": [
      "45\n"
     ]
    }
   ],
   "source": [
    "# Unos podataka\n",
    "a = input()"
   ]
  },
  {
   "cell_type": "code",
   "execution_count": 109,
   "id": "ebdbf23a",
   "metadata": {},
   "outputs": [
    {
     "data": {
      "text/plain": [
       "'45'"
      ]
     },
     "execution_count": 109,
     "metadata": {},
     "output_type": "execute_result"
    }
   ],
   "source": [
    "# Ispit samo u jupyter svesci\n",
    "a"
   ]
  },
  {
   "cell_type": "code",
   "execution_count": 110,
   "id": "a4eb7cbe",
   "metadata": {},
   "outputs": [
    {
     "name": "stdout",
     "output_type": "stream",
     "text": [
      "<class 'str'>\n"
     ]
    }
   ],
   "source": [
    "# Tip promenljive\n",
    "print(type(a))"
   ]
  },
  {
   "cell_type": "code",
   "execution_count": 111,
   "id": "6464c0cc",
   "metadata": {},
   "outputs": [
    {
     "name": "stdout",
     "output_type": "stream",
     "text": [
      "<class 'int'>\n"
     ]
    }
   ],
   "source": [
    "# Kastovanje\n",
    "b = int(a)\n",
    "print(type(b))"
   ]
  },
  {
   "cell_type": "code",
   "execution_count": 112,
   "id": "35a59960",
   "metadata": {},
   "outputs": [
    {
     "name": "stdout",
     "output_type": "stream",
     "text": [
      "asdf\n",
      "Neispravna vrednost\n",
      "invalid literal for int() with base 10: 'asdf'\n"
     ]
    }
   ],
   "source": [
    "# Obrada greske\n",
    "try:\n",
    "    x = int(input())\n",
    "except ValueError as e:\n",
    "    # Ne moramo da navodimo tip izuzetka\n",
    "    print(\"Neispravna vrednost\")\n",
    "    print(e)"
   ]
  },
  {
   "cell_type": "code",
   "execution_count": 10,
   "id": "c413d602",
   "metadata": {},
   "outputs": [],
   "source": [
    "# Dokumentacija\n",
    "?ValueError"
   ]
  },
  {
   "cell_type": "code",
   "execution_count": 38,
   "id": "90171684",
   "metadata": {},
   "outputs": [],
   "source": [
    "# Citanje iz fajla\n",
    "input_file = open(\"data/01in.txt\", \"r\")\n",
    "content = input_file.read() # Ceo sadrzaj testa\n",
    "input_file.close()"
   ]
  },
  {
   "cell_type": "code",
   "execution_count": 39,
   "id": "f3e6f4c2",
   "metadata": {},
   "outputs": [
    {
     "name": "stdout",
     "output_type": "stream",
     "text": [
      "Test test\n"
     ]
    }
   ],
   "source": [
    "# Print lepo formatira tekst\n",
    "print(content)"
   ]
  },
  {
   "cell_type": "code",
   "execution_count": 40,
   "id": "c56be5d9",
   "metadata": {},
   "outputs": [
    {
     "name": "stdout",
     "output_type": "stream",
     "text": [
      "Output output\n"
     ]
    }
   ],
   "source": [
    "# Moguce greske pri citanju fajla\n",
    "try:\n",
    "    input_file = open(\"out.txt\", \"r\") # Fajl ne postoji\n",
    "    content = input_file.read()\n",
    "    print(content)\n",
    "    input_file.close()\n",
    "except:\n",
    "    print(\"Open error\")"
   ]
  },
  {
   "cell_type": "code",
   "execution_count": 41,
   "id": "9f0678e0",
   "metadata": {},
   "outputs": [
    {
     "name": "stdout",
     "output_type": "stream",
     "text": [
      "Error\n"
     ]
    }
   ],
   "source": [
    "# Alternativa za otvaranje fajla\n",
    "try:\n",
    "    # Kada se zavrsi with blok, resursi se oslobadjaju (fajl se zatvara)\n",
    "    with open(\"in.txt\", \"r\") as input_file:\n",
    "        print(input_file.read())\n",
    "except:\n",
    "    print(\"Error\")"
   ]
  },
  {
   "cell_type": "code",
   "execution_count": 15,
   "id": "63f1746f",
   "metadata": {},
   "outputs": [],
   "source": [
    "# Pisanje u izlazni fajl\n",
    "try:\n",
    "    with open(\"out.txt\", \"w\") as output_file:\n",
    "        output_file.write(\"Output output\")\n",
    "except:\n",
    "    print(\"Error\")"
   ]
  },
  {
   "cell_type": "code",
   "execution_count": 16,
   "id": "907ed79a",
   "metadata": {},
   "outputs": [
    {
     "name": "stdout",
     "output_type": "stream",
     "text": [
      "n\n"
     ]
    }
   ],
   "source": [
    "# If elif else\n",
    "a = 5\n",
    "if a % 3 == 0:\n",
    "    print(\"3\")\n",
    "elif a % 2 == 0:\n",
    "    print(\"2\")\n",
    "else:\n",
    "    print(\"n\")"
   ]
  },
  {
   "cell_type": "code",
   "execution_count": 17,
   "id": "d7a2b8c5",
   "metadata": {},
   "outputs": [
    {
     "name": "stdout",
     "output_type": "stream",
     "text": [
      "0\n",
      "1\n",
      "2\n",
      "3\n",
      "4\n"
     ]
    }
   ],
   "source": [
    "# for\n",
    "for i in range(5):\n",
    "    print(i)"
   ]
  },
  {
   "cell_type": "code",
   "execution_count": 18,
   "id": "095964dd",
   "metadata": {},
   "outputs": [
    {
     "name": "stdout",
     "output_type": "stream",
     "text": [
      "0\n",
      "1\n",
      "2\n",
      "3\n",
      "4\n"
     ]
    }
   ],
   "source": [
    "# while\n",
    "i = 0\n",
    "while i < 5:\n",
    "    print(i)\n",
    "    i += 1"
   ]
  },
  {
   "cell_type": "code",
   "execution_count": 42,
   "id": "10fcd134",
   "metadata": {
    "scrolled": true
   },
   "outputs": [
    {
     "name": "stdout",
     "output_type": "stream",
     "text": [
      "[1, 2, 3, 4]\n",
      "<class 'list'>\n",
      "4\n",
      "1 2 3 4 "
     ]
    }
   ],
   "source": [
    "# List\n",
    "\n",
    "list1 = [1, 2, 3 ,4]\n",
    "\n",
    "print(list1)\n",
    "print(type(list1))\n",
    "print(len(list1))\n",
    "\n",
    "for i in list1:\n",
    "    # U foreach se dobija kopija\n",
    "    print(i, end=\" \")\n",
    "    "
   ]
  },
  {
   "cell_type": "code",
   "execution_count": 44,
   "id": "b6a3a358",
   "metadata": {},
   "outputs": [
    {
     "name": "stdout",
     "output_type": "stream",
     "text": [
      "[1, 4, 9, 16]\n"
     ]
    }
   ],
   "source": [
    "# Poimanje lista\n",
    "squared = [x*x for x in lista]\n",
    "print(squared)"
   ]
  },
  {
   "cell_type": "code",
   "execution_count": 45,
   "id": "046cc039",
   "metadata": {},
   "outputs": [
    {
     "name": "stdout",
     "output_type": "stream",
     "text": [
      "[1, 3]\n"
     ]
    }
   ],
   "source": [
    "ods = [x for x in lista if x % 2 == 1]\n",
    "print(ods)"
   ]
  },
  {
   "cell_type": "code",
   "execution_count": 46,
   "id": "323edd5d",
   "metadata": {},
   "outputs": [
    {
     "name": "stdout",
     "output_type": "stream",
     "text": [
      "(1, 'a')\n",
      "<class 'tuple'>\n",
      "(2, 'b')\n",
      "<class 'tuple'>\n",
      "(3, 'c')\n",
      "<class 'tuple'>\n",
      "(4, 'd')\n",
      "<class 'tuple'>\n"
     ]
    }
   ],
   "source": [
    "# Pakovanje liste\n",
    "\n",
    "list1  = [1,2,3,4]\n",
    "list2 = ['a', 'b', 'c', 'd']\n",
    "\n",
    "ziped = zip(list1, list2)\n",
    "for z in ziped:\n",
    "    print(z)\n",
    "    print(type(z))"
   ]
  },
  {
   "cell_type": "code",
   "execution_count": 47,
   "id": "c784db1d",
   "metadata": {},
   "outputs": [
    {
     "name": "stdout",
     "output_type": "stream",
     "text": [
      "[5, 4, 3, 2, 1]\n",
      "[-1, 1, 3, 4, 5, 7, 9]\n"
     ]
    }
   ],
   "source": [
    "# Funkcije nad listama\n",
    "\n",
    "list1 = [1, 2, 3, 4, 5]\n",
    "list1.reverse()\n",
    "print(list1)\n",
    "\n",
    "list1 = [3, 4, 5, 1, 7, 9, -1]\n",
    "list1.sort()\n",
    "print(list1)"
   ]
  },
  {
   "cell_type": "code",
   "execution_count": 48,
   "id": "a812ddb9",
   "metadata": {},
   "outputs": [
    {
     "name": "stdout",
     "output_type": "stream",
     "text": [
      "[-1, 1, 3]\n",
      "[-1, 1, 3, 4, 5, 7]\n"
     ]
    }
   ],
   "source": [
    "# Podliste\n",
    "print(list1[0:3])\n",
    "print(list1[:-1])"
   ]
  },
  {
   "cell_type": "code",
   "execution_count": 52,
   "id": "a614a7c1",
   "metadata": {},
   "outputs": [
    {
     "name": "stdout",
     "output_type": "stream",
     "text": [
      "[[1, 2, 3], [4, 5, 6], [7, 8, 9]]\n"
     ]
    }
   ],
   "source": [
    "# Matrice (lista liste)\n",
    "mat = [[1,2,3], [4,5,6], [7,8,9]]\n",
    "print(mat)"
   ]
  },
  {
   "cell_type": "code",
   "execution_count": 51,
   "id": "f5140122",
   "metadata": {},
   "outputs": [
    {
     "name": "stdout",
     "output_type": "stream",
     "text": [
      "[1, 2, 3, 4, 5, 6]\n"
     ]
    }
   ],
   "source": [
    "# Konkatenacija liste\n",
    "list1 = [1,2,3]\n",
    "list2 = [4,5,6]\n",
    "list3 = list1 + list2\n",
    "print(list3)"
   ]
  },
  {
   "cell_type": "code",
   "execution_count": 50,
   "id": "52750924",
   "metadata": {},
   "outputs": [
    {
     "name": "stdout",
     "output_type": "stream",
     "text": [
      "[1, 2, 3, 56, 4, 5, 6, 9]\n",
      "[1, 2, 3, 56, 4, 5, 6]\n"
     ]
    }
   ],
   "source": [
    "# Dodavanje na kraj liste u uklanjanje sa kraja\n",
    "list3.append(9)\n",
    "print(list3)\n",
    "list3.pop()\n",
    "print(list3)"
   ]
  },
  {
   "cell_type": "code",
   "execution_count": 54,
   "id": "56b4d1ed",
   "metadata": {},
   "outputs": [
    {
     "name": "stdout",
     "output_type": "stream",
     "text": [
      "[1, 2, 3, 56, 56, 4, 5, 6]\n"
     ]
    }
   ],
   "source": [
    "# Ubacivanje na odredjeni indeks\n",
    "list3.insert(3, 56)\n",
    "print(list3)"
   ]
  },
  {
   "cell_type": "code",
   "execution_count": 55,
   "id": "c7513526",
   "metadata": {},
   "outputs": [
    {
     "name": "stdout",
     "output_type": "stream",
     "text": [
      "abcdef\n"
     ]
    }
   ],
   "source": [
    "# Konkatenacija niske\n",
    "a = \"abc\"\n",
    "b = \"def\"\n",
    "print(a + b)"
   ]
  },
  {
   "cell_type": "code",
   "execution_count": 56,
   "id": "98931435",
   "metadata": {},
   "outputs": [
    {
     "name": "stdout",
     "output_type": "stream",
     "text": [
      "a b c "
     ]
    }
   ],
   "source": [
    "# Interacija kroz nisku\n",
    "for c in a:\n",
    "    print(c, end=\" \")"
   ]
  },
  {
   "cell_type": "code",
   "execution_count": 4,
   "id": "f2bd9d64",
   "metadata": {},
   "outputs": [],
   "source": [
    "# Biblioteka za rad sa nasumicnim brojevima\n",
    "import random"
   ]
  },
  {
   "cell_type": "code",
   "execution_count": 67,
   "id": "f76ad147",
   "metadata": {},
   "outputs": [
    {
     "name": "stdout",
     "output_type": "stream",
     "text": [
      "0.09231906420504865\n"
     ]
    }
   ],
   "source": [
    "# Generisanje nasumicnog broja u (0,1)\n",
    "x = random.random()\n",
    "print(x)"
   ]
  },
  {
   "cell_type": "code",
   "execution_count": 75,
   "id": "7403ba18",
   "metadata": {},
   "outputs": [
    {
     "name": "stdout",
     "output_type": "stream",
     "text": [
      "3\n"
     ]
    }
   ],
   "source": [
    "# Nasumicni broj iz segmenta [a,b)\n",
    "print(random.randrange(1,4))"
   ]
  },
  {
   "cell_type": "code",
   "execution_count": 93,
   "id": "92d30657",
   "metadata": {},
   "outputs": [
    {
     "name": "stdout",
     "output_type": "stream",
     "text": [
      "1\n"
     ]
    }
   ],
   "source": [
    "# Nasumicno biramo jedan element iz liste\n",
    "x = random.choice(list3)\n",
    "print(x)"
   ]
  },
  {
   "cell_type": "code",
   "execution_count": 5,
   "id": "2b569944",
   "metadata": {},
   "outputs": [
    {
     "ename": "NameError",
     "evalue": "name 'list3' is not defined",
     "output_type": "error",
     "traceback": [
      "\u001b[0;31m---------------------------------------------------------------------------\u001b[0m",
      "\u001b[0;31mNameError\u001b[0m                                 Traceback (most recent call last)",
      "Input \u001b[0;32mIn [5]\u001b[0m, in \u001b[0;36m<module>\u001b[0;34m\u001b[0m\n\u001b[1;32m      1\u001b[0m \u001b[38;5;66;03m# Nasumicno biramo jedan uzorak\u001b[39;00m\n\u001b[0;32m----> 2\u001b[0m s \u001b[38;5;241m=\u001b[39m random\u001b[38;5;241m.\u001b[39msample(\u001b[43mlist3\u001b[49m, \u001b[38;5;241m2\u001b[39m)\n\u001b[1;32m      3\u001b[0m \u001b[38;5;28mprint\u001b[39m(s)\n",
      "\u001b[0;31mNameError\u001b[0m: name 'list3' is not defined"
     ]
    }
   ],
   "source": [
    "# Nasumicno biramo jedan uzorak\n",
    "s = random.sample(list3, 2)\n",
    "print(s)"
   ]
  },
  {
   "cell_type": "code",
   "execution_count": 7,
   "id": "79d5fed5",
   "metadata": {},
   "outputs": [
    {
     "name": "stdout",
     "output_type": "stream",
     "text": [
      "1\n"
     ]
    }
   ],
   "source": [
    "mapa = {\n",
    "    'a' : 1,\n",
    "    'b' : 2\n",
    "}\n",
    "print(mapa['a'])"
   ]
  },
  {
   "cell_type": "code",
   "execution_count": 8,
   "id": "bc27668f",
   "metadata": {},
   "outputs": [
    {
     "name": "stdout",
     "output_type": "stream",
     "text": [
      "{'a': 1, 'b': 2, 'v': 10}\n"
     ]
    }
   ],
   "source": [
    "mapa['v'] = 10\n",
    "print(mapa)"
   ]
  },
  {
   "cell_type": "code",
   "execution_count": 9,
   "id": "11013bd8",
   "metadata": {},
   "outputs": [
    {
     "name": "stdout",
     "output_type": "stream",
     "text": [
      "{'a': 1, 'b': 2}\n"
     ]
    }
   ],
   "source": [
    "del mapa['v']\n",
    "print(mapa)"
   ]
  },
  {
   "cell_type": "code",
   "execution_count": 11,
   "id": "da57a2f8",
   "metadata": {},
   "outputs": [
    {
     "name": "stdout",
     "output_type": "stream",
     "text": [
      "a 1\n",
      "b 2\n"
     ]
    }
   ],
   "source": [
    "for key, value in mapa.items():\n",
    "    print(key, value)"
   ]
  },
  {
   "cell_type": "code",
   "execution_count": 12,
   "id": "e1227f9a",
   "metadata": {},
   "outputs": [],
   "source": [
    "import math"
   ]
  },
  {
   "cell_type": "code",
   "execution_count": 15,
   "id": "e951bbeb",
   "metadata": {},
   "outputs": [
    {
     "name": "stdout",
     "output_type": "stream",
     "text": [
      "2.0\n",
      "5\n",
      "4\n"
     ]
    }
   ],
   "source": [
    "print(math.sqrt(4))\n",
    "print(math.ceil(4.5))\n",
    "print(math.floor(4.5))"
   ]
  },
  {
   "cell_type": "code",
   "execution_count": 18,
   "id": "60d9db39",
   "metadata": {},
   "outputs": [
    {
     "name": "stdout",
     "output_type": "stream",
     "text": [
      "3\n",
      "6\n"
     ]
    }
   ],
   "source": [
    "def sum(a, b, c=0):\n",
    "    return a + b + c\n",
    "print(sum(1,2))\n",
    "print(sum(1,2,3))"
   ]
  },
  {
   "cell_type": "code",
   "execution_count": 19,
   "id": "acd8c388",
   "metadata": {},
   "outputs": [
    {
     "ename": "ModuleNotFoundError",
     "evalue": "No module named 'numpty'",
     "output_type": "error",
     "traceback": [
      "\u001b[0;31m---------------------------------------------------------------------------\u001b[0m",
      "\u001b[0;31mModuleNotFoundError\u001b[0m                       Traceback (most recent call last)",
      "Input \u001b[0;32mIn [19]\u001b[0m, in \u001b[0;36m<module>\u001b[0;34m\u001b[0m\n\u001b[0;32m----> 1\u001b[0m \u001b[38;5;28;01mimport\u001b[39;00m \u001b[38;5;21;01mnumpty\u001b[39;00m\n",
      "\u001b[0;31mModuleNotFoundError\u001b[0m: No module named 'numpty'"
     ]
    }
   ],
   "source": [
    "import numpy"
   ]
  },
  {
   "cell_type": "code",
   "execution_count": null,
   "id": "b15be9fe",
   "metadata": {},
   "outputs": [],
   "source": []
  }
 ],
 "metadata": {
  "kernelspec": {
   "display_name": "Python 3 (ipykernel)",
   "language": "python",
   "name": "python3"
  },
  "language_info": {
   "codemirror_mode": {
    "name": "ipython",
    "version": 3
   },
   "file_extension": ".py",
   "mimetype": "text/x-python",
   "name": "python",
   "nbconvert_exporter": "python",
   "pygments_lexer": "ipython3",
   "version": "3.9.9"
  }
 },
 "nbformat": 4,
 "nbformat_minor": 5
}

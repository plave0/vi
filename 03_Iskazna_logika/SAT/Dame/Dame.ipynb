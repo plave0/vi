{
 "cells": [
  {
   "cell_type": "code",
   "execution_count": 1,
   "id": "0548825a",
   "metadata": {},
   "outputs": [],
   "source": [
    "from itertools import product\n",
    "import os"
   ]
  },
  {
   "cell_type": "code",
   "execution_count": 2,
   "id": "e6d5df39",
   "metadata": {},
   "outputs": [],
   "source": [
    "def minisat_solve(problem_name, cnf):\n",
    "    \n",
    "    with open(f\"{problem_name}.cnf\", \"w\") as inp:\n",
    "        inp.write(cnf.dimacs())\n",
    "    \n",
    "    os.system(f\"minisat {problem_name}.cnf {problem_name}_res.cnf\")\n",
    "    \n",
    "    with open(f\"{problem_name}_res.cnf\", \"r\") as res_file:\n",
    "        res = res_file.readlines()\n",
    "       \n",
    "    sat = res[0]\n",
    "    val = res[1]\n",
    "    if sat == \"SAT\\n\":\n",
    "        print(\"SAT\")\n",
    "        val = val.split(\" \")\n",
    "        for lit in val[:-1]:\n",
    "            if lit[0] != '-':\n",
    "                print(f\"{cnf.num_to_var[int(lit)]}\")\n",
    "    else:\n",
    "        print(\"UNSAT\")"
   ]
  },
  {
   "cell_type": "code",
   "execution_count": 3,
   "id": "241e665a",
   "metadata": {},
   "outputs": [],
   "source": [
    "class CNF:\n",
    "    def __init__(self):\n",
    "        self.clauses = []\n",
    "        self.var_to_num = {}\n",
    "        self.num_to_var = {}\n",
    "    \n",
    "    def add_clause(self, clause):\n",
    "        for lit in clause:\n",
    "            var_name = lit.strip('-')\n",
    "            if var_name not in self.var_to_num:\n",
    "                var_num = len(self.var_to_num) + 1\n",
    "                self.var_to_num[var_name] = var_num\n",
    "                self.num_to_var[var_num] = var_name\n",
    "                \n",
    "        self.clauses.append(clause)\n",
    "        \n",
    "    def dimacs(self):\n",
    "        res = f\"p cnf {len(self.clauses)} {len(self.var_to_num)}\\n\"\n",
    "        for cls in self.clauses:\n",
    "            for lit in cls:\n",
    "                var_name = lit.strip('-')\n",
    "                if lit[0] == '-':\n",
    "                    res += f\"-{self.var_to_num[var_name]} \"\n",
    "                else:\n",
    "                    res += f\"{self.var_to_num[var_name]} \"\n",
    "            res += \"0\\n\"\n",
    "        return res"
   ]
  },
  {
   "cell_type": "code",
   "execution_count": 4,
   "id": "cdae6e24",
   "metadata": {},
   "outputs": [],
   "source": [
    "def n_dame(n):\n",
    "    cnf = CNF()\n",
    "    \n",
    "    # U svakom redu treba postaviti po jednu damu\n",
    "    for i in range(n):\n",
    "        clause = [f'p{i}{j}' for j in range(n)]\n",
    "        cnf.add_clause(clause)\n",
    "        \n",
    "    # U svakom redu moze biti najvise jedna dama\n",
    "    for k in range(n):\n",
    "        for i in range(n - 1):\n",
    "            for j in range(i + 1, n):\n",
    "                cnf.add_clause([f\"-p{k}{i}\", f\"-p{k}{j}\"])\n",
    "                \n",
    "    # U svakoj kolini moze biti najvise jedna dama\n",
    "    for k in range(n):\n",
    "        for i in range(n - 1):\n",
    "            for j in range(i + 1, n):\n",
    "                cnf.add_clause([f\"-p{i}{k}\", f\"-p{j}{k}\"])\n",
    "                \n",
    "    \n",
    "        \n",
    "    for i, j, k, l in product(range(n), repeat=4):\n",
    "        if k > i and abs(k - i) == abs(l - j):\n",
    "            cnf.add_clause([f\"-p{i}{j}\", f\"-p{k}{l}\"])\n",
    "            \n",
    "    minisat_solve(f\"{n}_dame\", cnf)"
   ]
  },
  {
   "cell_type": "code",
   "execution_count": 5,
   "id": "1f4b1c3e",
   "metadata": {},
   "outputs": [
    {
     "name": "stdout",
     "output_type": "stream",
     "text": [
      "WARNING: for repeatability, setting FPU to use double precision\n",
      "============================[ Problem Statistics ]=============================\n",
      "|                                                                             |\n",
      "|  Number of variables:            16                                         |\n",
      "|  Number of clauses:              80                                         |\n",
      "|  Parse time:                   0.00 s                                       |\n",
      "|  Eliminated vars:                 4                                           |\n",
      "|  Vars set       :                 0                                           |\n",
      "|  Eliminated clauses:           0.00 Mb                                      |\n",
      "|  Simplification time:          0.00 s                                       |\n",
      "|                                                                             |\n",
      "============================[ Search Statistics ]==============================\n",
      "| Conflicts |          ORIGINAL         |          LEARNT          | Progress |\n",
      "|           |    Vars  Clauses Literals |    Limit  Clauses Lit/Cl |          |\n",
      "===============================================================================\n",
      "===============================================================================\n",
      "restarts              : 1\n",
      "conflicts             : 0              (0 /sec)\n",
      "decisions             : 5              (0.00 % random) (2846 /sec)\n",
      "propagations          : 12             (6830 /sec)\n",
      "conflict literals     : 0              (-nan % deleted)\n",
      "Memory used           : 10.34 MB\n",
      "CPU time              : 0.001757 s\n",
      "\n",
      "SATISFIABLE\n",
      "SAT\n",
      "p01\n",
      "p13\n",
      "p20\n",
      "p32\n"
     ]
    }
   ],
   "source": [
    "n_dame(4)"
   ]
  },
  {
   "cell_type": "code",
   "execution_count": null,
   "id": "d8537343",
   "metadata": {},
   "outputs": [],
   "source": []
  }
 ],
 "metadata": {
  "kernelspec": {
   "display_name": "Python 3 (ipykernel)",
   "language": "python",
   "name": "python3"
  },
  "language_info": {
   "codemirror_mode": {
    "name": "ipython",
    "version": 3
   },
   "file_extension": ".py",
   "mimetype": "text/x-python",
   "name": "python",
   "nbconvert_exporter": "python",
   "pygments_lexer": "ipython3",
   "version": "3.10.4"
  }
 },
 "nbformat": 4,
 "nbformat_minor": 5
}

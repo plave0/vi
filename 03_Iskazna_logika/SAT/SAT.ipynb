{
 "cells": [
  {
   "cell_type": "markdown",
   "id": "e9c3d3e3",
   "metadata": {},
   "source": [
    "# Rešavanje SAT problema pomoću *minisat* rešavača"
   ]
  },
  {
   "cell_type": "markdown",
   "id": "d542b20c",
   "metadata": {},
   "source": [
    "Za rešavanje SAT problemo koristimo *minisat* rešavač. Pri pokretanju *minisat* rešavača potrebno je navesti ulazni fajl u kome se nalazi \n",
    "\n",
    "Problem se zapisuje u *dimacs* zapisu i takav se prosleđuje *minisat* rešavaču koji nam vraća informaciju da li problem zadovoljin ili ne, i ako jeste zadovoljiv, vraća jedno rešenje.\n",
    "\n",
    "**Dimacs zapis:**\n",
    "*Dimacs* zapis se koristi za zapisivanje izrara koji su u komutativnoj normalnoj formi.\n",
    "Pri red je oblika ```p cnf m n``` gde je ```m``` broj klauza u KNF-u, a ```n``` broj promenljivih koje se nalaze u KNF-u. Promenljive su označene brojevima od ```1``` do ```n```. U nastavku fajla se zapisuju sve klauze KNF-a, svaka u posebnom redu. Literali kaluze su odvojeni razmakom a na kraju svakog reda je potrebno zapisati nulu ```0```. Negirane promenljive se pišu sa minusom ispred oznake promenljive.\n",
    "\n",
    "*Primer KNF-a zapisanog u dimacs zapisu:*\n",
    "```\n",
    "p cnf 2 3\n",
    "-1 2\n",
    "1 2 3\n",
    "```"
   ]
  },
  {
   "cell_type": "markdown",
   "id": "e89e3999",
   "metadata": {},
   "source": [
    "## Implementacija SAT rešavača u Pajtonu"
   ]
  },
  {
   "cell_type": "code",
   "execution_count": 6,
   "id": "297ba699",
   "metadata": {},
   "outputs": [],
   "source": [
    "import os"
   ]
  },
  {
   "cell_type": "markdown",
   "id": "ee660a6c",
   "metadata": {},
   "source": [
    "KNF predstavljamo klasom koja čuva svaku klauzu u obliku niske. Promeljive u klauzama ne moraju biti predstavljene brojevima kao što je to u *dimacs* zapisu, već klasa sama mapira imena promenjivih u odgovarajuće brojeve.\n",
    "\n",
    "Ova klasa takođe sadrži pomoćnu funkciju koja vraća *dimacs* zapis tekućeg KNF-a."
   ]
  },
  {
   "cell_type": "code",
   "execution_count": 34,
   "id": "cda1a9ba",
   "metadata": {},
   "outputs": [],
   "source": [
    "class CNF:\n",
    "    \n",
    "    def __init__(self):\n",
    "        self.clauses = []\n",
    "        self.var_to_num = {}\n",
    "        self.num_to_var = {}\n",
    "        \n",
    "    def add_clause(self, clause):\n",
    "        \n",
    "        for literal in clause:\n",
    "            var = literal.strip(\"-\")\n",
    "            if var not in self.var_to_num:\n",
    "                var_number = len(self.num_to_var) + 1\n",
    "                self.var_to_num[var] = var_number\n",
    "                self.num_to_var[var_number] = var\n",
    "                \n",
    "        self.clauses.append(clause)\n",
    "    \n",
    "    def dimacs(self):\n",
    "        \n",
    "        cnf = f\"p cnf {len(self.clauses)} {len(self.var_to_num)}\\n\"\n",
    "        \n",
    "        for clause in self.clauses:\n",
    "            for literal in clause:\n",
    "                \n",
    "                var = literal.strip('-')\n",
    "                \n",
    "                if literal.startswith('-'):\n",
    "                    cnf += '-'\n",
    "                cnf += f\"{str(self.var_to_num[var])} \"\n",
    "            \n",
    "            cnf += \"0\\n\"\n",
    "            \n",
    "        return cnf\n",
    "    \n",
    "    def get_var_name(self, var_num):\n",
    "        return self.num_to_var[var_num]\n",
    "    \n",
    "    def get_var_num(self, var_name):\n",
    "        return self.var_to_num[var_name]\n",
    "    "
   ]
  },
  {
   "cell_type": "code",
   "execution_count": 41,
   "id": "4602e4e0",
   "metadata": {},
   "outputs": [],
   "source": [
    "def minisat_solve(problem_name, cnf):\n",
    "    \n",
    "    with open(f\"{problem_name}.cnf\", \"w\") as cnf_input_file:\n",
    "        cnf_input_file.write(cnf.dimacs())\n",
    "        \n",
    "    os.system(f\"minisat {problem_name}.cnf {problem_name}_result.cnf\")\n",
    "    \n",
    "    with open(f\"{problem_name}_result.cnf\", \"r\") as cnf_output_file:\n",
    "        cnf_output_lines = cnf_output_file.readlines()\n",
    "    \n",
    "    \n",
    "    result = \"\"\n",
    "    if cnf_output_lines[0].startswith(\"SAT\"):\n",
    "        \n",
    "        result += \"SAT\\n\"\n",
    "        literals = cnf_output_lines[1].split(\" \")\n",
    "        \n",
    "        for literal in literals:\n",
    "            if not literal.startswith('0'):\n",
    "                var_num = literal.strip('-')\n",
    "\n",
    "                if literal.startswith('-'):\n",
    "                    result += '-'\n",
    "                result += cnf.get_var_name(int(var_num)) + \" \"\n",
    "                \n",
    "    elif cnf_output_lines[0].startswith(\"UNSAT\"):\n",
    "        result += \"UNSAT\\n\"\n",
    "        \n",
    "    return result"
   ]
  },
  {
   "cell_type": "markdown",
   "id": "46dc5b76",
   "metadata": {},
   "source": [
    "## Primer upotrebe"
   ]
  },
  {
   "cell_type": "markdown",
   "id": "39ac1789",
   "metadata": {},
   "source": [
    "Zapisujemo KNF: $ (\\neg a \\lor b) \\land (\\neg b \\lor c) $"
   ]
  },
  {
   "cell_type": "code",
   "execution_count": 42,
   "id": "fc8c6ace",
   "metadata": {},
   "outputs": [
    {
     "name": "stdout",
     "output_type": "stream",
     "text": [
      "WARNING: for repeatability, setting FPU to use double precision\n",
      "============================[ Problem Statistics ]=============================\n",
      "|                                                                             |\n",
      "|  Number of variables:             3                                         |\n",
      "|  Number of clauses:               2                                         |\n",
      "|  Parse time:                   0.00 s                                       |\n",
      "|  Eliminated vars:                 3                                           |\n",
      "|  Vars set       :                 0                                           |\n",
      "|  Eliminated clauses:           0.00 Mb                                      |\n",
      "|  Simplification time:          0.00 s                                       |\n",
      "|                                                                             |\n",
      "============================[ Search Statistics ]==============================\n",
      "| Conflicts |          ORIGINAL         |          LEARNT          | Progress |\n",
      "|           |    Vars  Clauses Literals |    Limit  Clauses Lit/Cl |          |\n",
      "===============================================================================\n",
      "===============================================================================\n",
      "restarts              : 1\n",
      "conflicts             : 0              (0 /sec)\n",
      "decisions             : 1              (0.00 % random) (350 /sec)\n",
      "propagations          : 0              (0 /sec)\n",
      "conflict literals     : 0              (-nan % deleted)\n",
      "Memory used           : 10.34 MB\n",
      "CPU time              : 0.002857 s\n",
      "\n",
      "SATISFIABLE\n",
      "SAT\n",
      "-a -b c \n"
     ]
    }
   ],
   "source": [
    "cnf = CNF()\n",
    "cnf.add_clause([\"-a\", \"b\"])\n",
    "cnf.add_clause([\"-b\", \"c\"])\n",
    "\n",
    "print(minisat_solve(\"sample\", cnf))"
   ]
  },
  {
   "cell_type": "markdown",
   "id": "38fd6485",
   "metadata": {},
   "source": [
    "Interpretacija: ```a = 0, b = 0, c = 1```"
   ]
  }
 ],
 "metadata": {
  "kernelspec": {
   "display_name": "Python 3 (ipykernel)",
   "language": "python",
   "name": "python3"
  },
  "language_info": {
   "codemirror_mode": {
    "name": "ipython",
    "version": 3
   },
   "file_extension": ".py",
   "mimetype": "text/x-python",
   "name": "python",
   "nbconvert_exporter": "python",
   "pygments_lexer": "ipython3",
   "version": "3.10.4"
  }
 },
 "nbformat": 4,
 "nbformat_minor": 5
}

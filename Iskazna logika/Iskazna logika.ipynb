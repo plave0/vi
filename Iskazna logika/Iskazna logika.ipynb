{
 "cells": [
  {
   "cell_type": "code",
   "execution_count": 1,
   "id": "f02bd678",
   "metadata": {},
   "outputs": [],
   "source": [
    "import copy"
   ]
  },
  {
   "cell_type": "code",
   "execution_count": 10,
   "id": "0fbcacbe",
   "metadata": {},
   "outputs": [],
   "source": [
    "class Formula:\n",
    "    def __init__(self):\n",
    "        self.components = []\n",
    "        \n",
    "    def interprete(self, valuation):\n",
    "        pass\n",
    "    \n",
    "    def __repr__(self):\n",
    "        return str(self)\n",
    "    \n",
    "    def __eq__(self, rhs):\n",
    "        return Eq(self.copy(), rhs.copy())\n",
    "    \n",
    "    def __and__(self, rhs):\n",
    "        return And(self.copy(), rhs.copy())\n",
    "    \n",
    "    def __or__(self, rhs):\n",
    "        return Or(self.copy(), rhs.copy())\n",
    "    \n",
    "    def copy(self):\n",
    "        return copy.deepcopy(self)\n",
    "    \n",
    "class Var(Formula):\n",
    "    def __init__(self, name):\n",
    "        super().__init__()\n",
    "        self.name = name\n",
    "        \n",
    "    def interprete(self, valuation):\n",
    "        return valuation[self.name]\n",
    "    \n",
    "    def __str__(self):\n",
    "        return self.name\n",
    "        \n",
    "    \n",
    "class Eq(Formula):\n",
    "    def __init__(self, lhs, rhs):\n",
    "        self.components = [lhs, rhs]\n",
    "    \n",
    "    def interprete(self, valuation):\n",
    "        return self.components[0].interprete(valuation) == self.components[1].interprete(valuation)\n",
    "    \n",
    "    def __str__(self):\n",
    "        return f\"({self.components[0]}) <=> ({self.components[1]})\"\n",
    "    \n",
    "class And(Formula):\n",
    "    def __init__(self, lhs, rhs):\n",
    "        self.components = [lhs, rhs]\n",
    "        \n",
    "    def interprete(self, valuation):\n",
    "        return self.components[0].interprete(valuation) and self.components[1].interprete(valuation)\n",
    "    \n",
    "    def __str__(self):\n",
    "        return f\"({self.components[0]}) & ({self.components[1]})\"\n",
    "\n",
    "class Or(Formula):\n",
    "    def __inti__(self, lhs, rhs):\n",
    "        super().__init__()\n",
    "        self.components = [lhs, rhs]\n",
    "        \n",
    "    def interprete(self, valuation):\n",
    "        return self.components[0].interprete(valuation) or self.components[1].interprete(valuation)\n",
    "    \n",
    "    def __str__(self):\n",
    "        return f\"({self.components[0]}) | ({self.components[1]})\""
   ]
  },
  {
   "cell_type": "code",
   "execution_count": 11,
   "id": "6570ccc1",
   "metadata": {},
   "outputs": [
    {
     "ename": "TypeError",
     "evalue": "Formula.__init__() takes 1 positional argument but 3 were given",
     "output_type": "error",
     "traceback": [
      "\u001b[0;31m---------------------------------------------------------------------------\u001b[0m",
      "\u001b[0;31mTypeError\u001b[0m                                 Traceback (most recent call last)",
      "Input \u001b[0;32mIn [11]\u001b[0m, in \u001b[0;36m<cell line: 9>\u001b[0;34m()\u001b[0m\n\u001b[1;32m      2\u001b[0m b \u001b[38;5;241m=\u001b[39m Var(\u001b[38;5;124m'\u001b[39m\u001b[38;5;124mb\u001b[39m\u001b[38;5;124m'\u001b[39m)\n\u001b[1;32m      4\u001b[0m valuation \u001b[38;5;241m=\u001b[39m {\n\u001b[1;32m      5\u001b[0m     \u001b[38;5;124m'\u001b[39m\u001b[38;5;124ma\u001b[39m\u001b[38;5;124m'\u001b[39m: \u001b[38;5;28;01mFalse\u001b[39;00m,\n\u001b[1;32m      6\u001b[0m     \u001b[38;5;124m'\u001b[39m\u001b[38;5;124mb\u001b[39m\u001b[38;5;124m'\u001b[39m: \u001b[38;5;28;01mFalse\u001b[39;00m\n\u001b[1;32m      7\u001b[0m }\n\u001b[0;32m----> 9\u001b[0m f \u001b[38;5;241m=\u001b[39m (\u001b[43ma\u001b[49m\u001b[43m \u001b[49m\u001b[38;5;241;43m|\u001b[39;49m\u001b[43m \u001b[49m\u001b[43mb\u001b[49m)\n\u001b[1;32m     10\u001b[0m \u001b[38;5;28mprint\u001b[39m(f)\n\u001b[1;32m     11\u001b[0m \u001b[38;5;28mprint\u001b[39m(f\u001b[38;5;241m.\u001b[39minterprete(valuation))\n",
      "Input \u001b[0;32mIn [10]\u001b[0m, in \u001b[0;36mFormula.__or__\u001b[0;34m(self, rhs)\u001b[0m\n\u001b[1;32m     17\u001b[0m \u001b[38;5;28;01mdef\u001b[39;00m \u001b[38;5;21m__or__\u001b[39m(\u001b[38;5;28mself\u001b[39m, rhs):\n\u001b[0;32m---> 18\u001b[0m     \u001b[38;5;28;01mreturn\u001b[39;00m \u001b[43mOr\u001b[49m\u001b[43m(\u001b[49m\u001b[38;5;28;43mself\u001b[39;49m\u001b[38;5;241;43m.\u001b[39;49m\u001b[43mcopy\u001b[49m\u001b[43m(\u001b[49m\u001b[43m)\u001b[49m\u001b[43m,\u001b[49m\u001b[43m \u001b[49m\u001b[43mrhs\u001b[49m\u001b[38;5;241;43m.\u001b[39;49m\u001b[43mcopy\u001b[49m\u001b[43m(\u001b[49m\u001b[43m)\u001b[49m\u001b[43m)\u001b[49m\n",
      "\u001b[0;31mTypeError\u001b[0m: Formula.__init__() takes 1 positional argument but 3 were given"
     ]
    }
   ],
   "source": [
    "a = Var('a')\n",
    "b = Var('b')\n",
    "\n",
    "valuation = {\n",
    "    'a': False,\n",
    "    'b': False\n",
    "}\n",
    "\n",
    "f = (a | b)\n",
    "print(f)\n",
    "print(f.interprete(valuation))"
   ]
  },
  {
   "cell_type": "code",
   "execution_count": null,
   "id": "04c8edd7",
   "metadata": {},
   "outputs": [],
   "source": []
  },
  {
   "cell_type": "code",
   "execution_count": null,
   "id": "380615b9",
   "metadata": {},
   "outputs": [],
   "source": []
  }
 ],
 "metadata": {
  "kernelspec": {
   "display_name": "Python 3 (ipykernel)",
   "language": "python",
   "name": "python3"
  },
  "language_info": {
   "codemirror_mode": {
    "name": "ipython",
    "version": 3
   },
   "file_extension": ".py",
   "mimetype": "text/x-python",
   "name": "python",
   "nbconvert_exporter": "python",
   "pygments_lexer": "ipython3",
   "version": "3.10.2"
  }
 },
 "nbformat": 4,
 "nbformat_minor": 5
}

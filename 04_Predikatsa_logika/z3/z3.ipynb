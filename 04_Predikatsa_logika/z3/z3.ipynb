{
 "cells": [
  {
   "cell_type": "markdown",
   "id": "b970f532",
   "metadata": {},
   "source": [
    "# Z3 rešavač"
   ]
  },
  {
   "cell_type": "code",
   "execution_count": 3,
   "id": "1cf64268",
   "metadata": {},
   "outputs": [],
   "source": [
    "from z3 import *"
   ]
  },
  {
   "cell_type": "code",
   "execution_count": 4,
   "id": "3a89a3df",
   "metadata": {},
   "outputs": [],
   "source": [
    "from IPython.display import display"
   ]
  },
  {
   "cell_type": "markdown",
   "id": "02d04cec",
   "metadata": {},
   "source": [
    "## Logičke promenljive"
   ]
  },
  {
   "cell_type": "markdown",
   "id": "0ea66697",
   "metadata": {},
   "source": [
    "Za definisanje logičkih promenljivih koristimo funkciju *Bools* koja nam vraća torku referenci ka nevezanim promelnjivima sa prosleđenim imenima.\n",
    "\n",
    "Funkciom *solve* prosleđujemo ograničenja koja želimo da važe, a z3 nam vraća jedno moguće rešenje, ako ono postoji."
   ]
  },
  {
   "cell_type": "markdown",
   "id": "a962b212",
   "metadata": {},
   "source": [
    "**Zadatak**: U iskaznoj logici zapisati uslov da je četvorobitni broj palindrom, ali da nisu svi bitovi isti."
   ]
  },
  {
   "cell_type": "code",
   "execution_count": 11,
   "id": "97dd7cee",
   "metadata": {
    "scrolled": false
   },
   "outputs": [
    {
     "name": "stdout",
     "output_type": "stream",
     "text": [
      "[A = True, D = True, B = False, C = False]\n",
      "1\n"
     ]
    }
   ],
   "source": [
    "A, B, C, D = Bools(\"A B C D\")\n",
    "solve(A == D, B == C, Not(And(A == B, B == C, C == D)))"
   ]
  },
  {
   "cell_type": "markdown",
   "id": "17821323",
   "metadata": {},
   "source": [
    "## Realne promenljive"
   ]
  },
  {
   "cell_type": "markdown",
   "id": "d2f82094",
   "metadata": {},
   "source": [
    "Realne nevezane promenljive definišemo funckijom *Reals*, analogno logičkim promenljivima."
   ]
  },
  {
   "cell_type": "markdown",
   "id": "27bf1efc",
   "metadata": {},
   "source": [
    "**Zadatak:** Implementirati rešavač linearnih jednačina sa tri nepoznate."
   ]
  },
  {
   "cell_type": "code",
   "execution_count": 18,
   "id": "b710dfaf",
   "metadata": {},
   "outputs": [
    {
     "name": "stdout",
     "output_type": "stream",
     "text": [
      "[y = 7/4, x = 1/2, z = 7/4]\n"
     ]
    }
   ],
   "source": [
    "x, y, z = Reals('x y z')\n",
    "\n",
    "solve(\n",
    "    x + 5*y - 3*z == 4,\n",
    "    -x + y + z == 3,\n",
    "    2*x + y - z == 1\n",
    ")"
   ]
  },
  {
   "cell_type": "markdown",
   "id": "4d5d7139",
   "metadata": {},
   "source": [
    "## Funkcije"
   ]
  },
  {
   "cell_type": "markdown",
   "id": "eefdbc6a",
   "metadata": {},
   "source": [
    "U z3 možemo da definišemo funkcijske promenljive, a zatim za zadata ograničenja rešavač može da nađe interpretaciju za date funkcije.\n",
    "\n",
    "Za definiciju funkcijskih promenljivih, koristi se funckija *Function*. Njoj se prosleđuje ime funkcijske promenljive, kao i njen potpis.\n",
    "\n",
    "*IntSort* predstavlja domen celih brojeva, a *BoolSort* domen logičkih vrednosti.\n",
    "\n",
    "Funkcijom *BoolVal* se definiše interpretirana konstanta logičkog tipa."
   ]
  },
  {
   "cell_type": "markdown",
   "id": "db840c47",
   "metadata": {},
   "source": [
    "**Zadatak:** Naći funkcie $ f : \\mathbb{Z} \\rightarrow \\mathbb{B} $ i $g : \\mathbb{B} \\rightarrow \\mathbb{Z}$ takve da važi ograničenje $ g(1 + f(a)) = True $."
   ]
  },
  {
   "cell_type": "code",
   "execution_count": 19,
   "id": "b4d28c6b",
   "metadata": {},
   "outputs": [
    {
     "name": "stdout",
     "output_type": "stream",
     "text": [
      "[a = False, f = [else -> 0], g = [else -> True]]\n"
     ]
    }
   ],
   "source": [
    "f = Function('f', BoolSort(), IntSort())\n",
    "g = Function('g', IntSort(), BoolSort())\n",
    "\n",
    "a = Bool('a')\n",
    "t = BoolVal(True)\n",
    "\n",
    "solve(g(1 + f(a)) == t)"
   ]
  },
  {
   "cell_type": "markdown",
   "id": "9b6366af",
   "metadata": {},
   "source": [
    "## Korisnički definisani domeni"
   ]
  },
  {
   "cell_type": "code",
   "execution_count": 23,
   "id": "d8618fa4",
   "metadata": {},
   "outputs": [],
   "source": [
    "T = DeclareSort(\"Tacke\")\n",
    "t1, t2 = Consts(\"t1 t2\", T)"
   ]
  },
  {
   "cell_type": "markdown",
   "id": "aa8c4859",
   "metadata": {},
   "source": [
    "## Razni zadaci"
   ]
  },
  {
   "cell_type": "markdown",
   "id": "a84e3c18",
   "metadata": {},
   "source": [
    "**Zadatak:** Za zadate aksiome, proveriti da li važi konjektura.\n",
    "\n",
    "Aksiome:\n",
    "- Dve nemimoilzne prave se seku ili su parelelne-.\n",
    "- Prave koje se seku leze u istoj ravni.\n",
    "- Prave koje su paralelne leze u istoj ravni.\n",
    "\n",
    "Konjektura: Dve nemimoilazne prave leze u istoj ravni."
   ]
  },
  {
   "cell_type": "code",
   "execution_count": 29,
   "id": "f593b661",
   "metadata": {},
   "outputs": [
    {
     "name": "stdout",
     "output_type": "stream",
     "text": [
      "sat\n"
     ]
    }
   ],
   "source": [
    "# m(X, Y) - X i Y su nemimoilazne prave: m: PxP -> B\n",
    "# s(X, Y) - X i Y se: s: PxP -> B\n",
    "# p(X, Y) - X i Y su parelene: s: PxP -> B\n",
    "# r(X, Y) - X i Y leze u istoj ravni: s: PxP -> B\n",
    "\n",
    "B = BoolSort()\n",
    "P = DeclareSort(\"Prave\")\n",
    "\n",
    "m = Function(\"m\", P, P, B)\n",
    "s = Function(\"s\", P, P, B)\n",
    "p = Function(\"p\", P, P, B)\n",
    "r = Function(\"r\", P, P, B)\n",
    "\n",
    "x, y = Consts(\"x y\", P)\n",
    "\n",
    "axioms = [\n",
    "    ForAll([x,y], Implies(m(x,y), Or(s(x,y), p(x,y)))),\n",
    "    ForAll([x,y], Implies(s(x,y), r(x,y))),\n",
    "    ForAll([x,y], Implies(p(x,y), r(x,y)))\n",
    "]\n",
    "conjectures = [ForAll([x,y], Implies(m(x,y), r(x,y)))]\n",
    "\n",
    "solver = Solver()\n",
    "solver.add(axioms)\n",
    "\n",
    "print(solver.check(conjectures))"
   ]
  },
  {
   "cell_type": "markdown",
   "id": "6a8ceead",
   "metadata": {},
   "source": [
    "U ovom primeru nam nije bitan model, već samo da li je zadati skup ograničenja zadovoljiv ili nije."
   ]
  },
  {
   "cell_type": "markdown",
   "id": "242171e7",
   "metadata": {},
   "source": [
    "**Zadatak:** N dama"
   ]
  },
  {
   "cell_type": "markdown",
   "id": "7afc62f9",
   "metadata": {},
   "source": [
    "$ Q_i $ - na kom polju u $i$-toj vrsti je postavljena dama.\n",
    "\n",
    "```value_constraint``` - kolone su označene brojevima od $0$ do $n$.\n",
    "\n",
    "```column_constraint``` - svaka dama mora da stoji u različitoj koloni.\n",
    "\n",
    "```diag_constraint``` - dame se ne mogu napadati po dijagonalama: $|Q_i - Q_j| \\ne |i - j|$"
   ]
  },
  {
   "cell_type": "code",
   "execution_count": 30,
   "id": "c4414e68",
   "metadata": {},
   "outputs": [
    {
     "name": "stdout",
     "output_type": "stream",
     "text": [
      "[Q_3 = 2,\n",
      " Q_1 = 6,\n",
      " Q_7 = 1,\n",
      " Q_5 = 5,\n",
      " Q_4 = 0,\n",
      " Q_0 = 3,\n",
      " Q_2 = 4,\n",
      " Q_6 = 7]\n"
     ]
    }
   ],
   "source": [
    "n = 8\n",
    "Q = [Int(f\"Q_{i}\") for i in range(n)]\n",
    "\n",
    "value_constraint = [And(0 <= q, q < n) for q in Q]\n",
    "column_constraint = [Distinct(Q)]\n",
    "\n",
    "diag_constraint = [\n",
    "    And(Q[i] - Q[j] != i - j, Q[i] - Q[j] != j - i)\n",
    "    for i in range(n) for j in range(i) if i != j\n",
    "]\n",
    "\n",
    "n_queens = val_c + col_c + diag_c\n",
    "solve(n_queens)"
   ]
  },
  {
   "cell_type": "code",
   "execution_count": 19,
   "id": "bb5975a3",
   "metadata": {},
   "outputs": [],
   "source": [
    "# Za vezbu implementirati probleme sa 7. casa"
   ]
  }
 ],
 "metadata": {
  "kernelspec": {
   "display_name": "Python 3 (ipykernel)",
   "language": "python",
   "name": "python3"
  },
  "language_info": {
   "codemirror_mode": {
    "name": "ipython",
    "version": 3
   },
   "file_extension": ".py",
   "mimetype": "text/x-python",
   "name": "python",
   "nbconvert_exporter": "python",
   "pygments_lexer": "ipython3",
   "version": "3.10.4"
  }
 },
 "nbformat": 4,
 "nbformat_minor": 5
}

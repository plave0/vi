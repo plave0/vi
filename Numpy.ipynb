{
 "cells": [
  {
   "cell_type": "code",
   "execution_count": 2,
   "id": "3dd4e323",
   "metadata": {},
   "outputs": [],
   "source": [
    "# Biblioteka za rad sa matricama\n",
    "import numpy as np"
   ]
  },
  {
   "cell_type": "code",
   "execution_count": 3,
   "id": "d1273a92",
   "metadata": {},
   "outputs": [
    {
     "name": "stdout",
     "output_type": "stream",
     "text": [
      "[1 2 3]\n",
      "<class 'numpy.ndarray'>\n",
      "(3,)\n",
      "1\n",
      "[2 3]\n"
     ]
    }
   ],
   "source": [
    "# Inicijalizacija vektora\n",
    "a = np.array([1, 2, 3])\n",
    "\n",
    "# Prikaz vektora\n",
    "print(a)\n",
    "\n",
    "# Nije isti tip kao Pajton niz\n",
    "print(type(a))\n",
    "\n",
    "# Dimenizje vektora (matrice)\n",
    "print(a.shape)\n",
    "\n",
    "# Pojedinacni elementri vektora\n",
    "print(a[0])\n",
    "\n",
    "# Fensi\n",
    "print(a[1:])"
   ]
  },
  {
   "cell_type": "code",
   "execution_count": 11,
   "id": "49e0efb8",
   "metadata": {},
   "outputs": [
    {
     "name": "stdout",
     "output_type": "stream",
     "text": [
      "[[1 2 3]\n",
      " [4 5 6]]\n",
      "(2, 3)\n",
      "6\n"
     ]
    }
   ],
   "source": [
    "# Inicijalizacija matrice\n",
    "b = np.array([[1,2,3], [4,5,6]])\n",
    "\n",
    "# Prikaz matrice\n",
    "print(b)\n",
    "\n",
    "# Dimezije matrice\n",
    "print(b.shape)\n",
    "\n",
    "# Elementri matrice\n",
    "print(b[1,2])\n",
    "# Pajton matrice ne mogu da se indeksiraju na ovaj nacin"
   ]
  },
  {
   "cell_type": "code",
   "execution_count": 12,
   "id": "d231b8fc",
   "metadata": {},
   "outputs": [
    {
     "name": "stdout",
     "output_type": "stream",
     "text": [
      "[[0. 0. 0.]\n",
      " [0. 0. 0.]]\n"
     ]
    }
   ],
   "source": [
    "# Inicijalizacija matrica sa nulama\n",
    "a = np.zeros((2,3))\n",
    "print(a)"
   ]
  },
  {
   "cell_type": "code",
   "execution_count": 13,
   "id": "8e7e0f94",
   "metadata": {},
   "outputs": [
    {
     "name": "stdout",
     "output_type": "stream",
     "text": [
      "[[1. 1. 1.]]\n"
     ]
    }
   ],
   "source": [
    "#Inicijalizacija matrica sa jedinicama\n",
    "b = np.ones((1,3))\n",
    "print(b)"
   ]
  },
  {
   "cell_type": "code",
   "execution_count": 20,
   "id": "40f1103e",
   "metadata": {},
   "outputs": [
    {
     "name": "stdout",
     "output_type": "stream",
     "text": [
      "[[15 15]\n",
      " [15 15]]\n"
     ]
    }
   ],
   "source": [
    "# Inicijalizacija matrice sa odrdjenom vrednoscu\n",
    "c = np.full((2,2), 15)\n",
    "print(c)"
   ]
  },
  {
   "cell_type": "code",
   "execution_count": 22,
   "id": "60876ce6",
   "metadata": {},
   "outputs": [
    {
     "name": "stdout",
     "output_type": "stream",
     "text": [
      "[[1. 0. 0. 0. 0.]\n",
      " [0. 1. 0. 0. 0.]\n",
      " [0. 0. 1. 0. 0.]\n",
      " [0. 0. 0. 1. 0.]\n",
      " [0. 0. 0. 0. 1.]]\n"
     ]
    }
   ],
   "source": [
    "# Inicijalizacija jedinicne matrice\n",
    "d = np.eye(5)\n",
    "print(d)"
   ]
  },
  {
   "cell_type": "code",
   "execution_count": 14,
   "id": "4c6a0434",
   "metadata": {},
   "outputs": [
    {
     "name": "stdout",
     "output_type": "stream",
     "text": [
      "[[0.37454012 0.95071431 0.73199394 0.59865848 0.15601864]\n",
      " [0.15599452 0.05808361 0.86617615 0.60111501 0.70807258]\n",
      " [0.02058449 0.96990985 0.83244264 0.21233911 0.18182497]\n",
      " [0.18340451 0.30424224 0.52475643 0.43194502 0.29122914]]\n"
     ]
    }
   ],
   "source": [
    "# Generisanje slucajne matrice\n",
    "np.random.seed(42) # Fiksiranje sida\n",
    "e = np.random.random((4,5))\n",
    "print(e)"
   ]
  },
  {
   "cell_type": "code",
   "execution_count": 17,
   "id": "0e7f769c",
   "metadata": {},
   "outputs": [
    {
     "name": "stdout",
     "output_type": "stream",
     "text": [
      "[[0.02058449 0.96990985]\n",
      " [0.18340451 0.30424224]]\n"
     ]
    }
   ],
   "source": [
    "print(e[2:, :2]) # Fensi"
   ]
  },
  {
   "cell_type": "code",
   "execution_count": 23,
   "id": "9b99dcd5",
   "metadata": {},
   "outputs": [
    {
     "name": "stdout",
     "output_type": "stream",
     "text": [
      "Zbir po kordinatama\n",
      "[[ 6.  8.]\n",
      " [10. 12.]]\n",
      "Razlika po koordinatama\n",
      "[[-4. -4.]\n",
      " [-4. -4.]]\n",
      "Mnozonje po koordinatama\n",
      "[[ 5. 12.]\n",
      " [21. 32.]]\n",
      "Deljenej po koordinatama\n",
      "[[0.2        0.33333333]\n",
      " [0.42857143 0.5       ]]\n"
     ]
    }
   ],
   "source": [
    "# Operacije nad matricama\n",
    "x = np.array([[1,2], [3,4]], dtype=np.float64)\n",
    "y = np.array([[5,6], [7,8]], dtype=np.float64)\n",
    "print(\"Zbir po kordinatama\")\n",
    "print(x + y)\n",
    "print(\"Razlika po koordinatama\")\n",
    "print(x - y)\n",
    "print(\"Mnozonje po koordinatama\")\n",
    "print(x * y)\n",
    "print(\"Deljenej po koordinatama\")\n",
    "print(x / y)"
   ]
  },
  {
   "cell_type": "code",
   "execution_count": 26,
   "id": "6ba82cb3",
   "metadata": {},
   "outputs": [
    {
     "name": "stdout",
     "output_type": "stream",
     "text": [
      "[[19. 22.]\n",
      " [43. 50.]]\n",
      "[[19. 22.]\n",
      " [43. 50.]]\n",
      "[[19. 22.]\n",
      " [43. 50.]]\n"
     ]
    }
   ],
   "source": [
    "# Matricno mnozenje\n",
    "print(x.dot(y))\n",
    "print(x @ y)\n",
    "print(np.dot(x,y))"
   ]
  },
  {
   "cell_type": "code",
   "execution_count": 27,
   "id": "f9aa439a",
   "metadata": {},
   "outputs": [
    {
     "name": "stdout",
     "output_type": "stream",
     "text": [
      "[[1.         1.41421356]\n",
      " [1.73205081 2.        ]]\n",
      "[[ 2.71828183  7.3890561 ]\n",
      " [20.08553692 54.59815003]]\n"
     ]
    }
   ],
   "source": [
    "# Druge operacije nad matricama\n",
    "print(np.sqrt(x))\n",
    "print(np.exp(x))"
   ]
  }
 ],
 "metadata": {
  "kernelspec": {
   "display_name": "Python 3 (ipykernel)",
   "language": "python",
   "name": "python3"
  },
  "language_info": {
   "codemirror_mode": {
    "name": "ipython",
    "version": 3
   },
   "file_extension": ".py",
   "mimetype": "text/x-python",
   "name": "python",
   "nbconvert_exporter": "python",
   "pygments_lexer": "ipython3",
   "version": "3.9.9"
  }
 },
 "nbformat": 4,
 "nbformat_minor": 5
}

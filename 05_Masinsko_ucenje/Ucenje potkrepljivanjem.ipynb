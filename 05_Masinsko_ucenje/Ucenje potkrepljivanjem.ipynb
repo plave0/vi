{
 "cells": [
  {
   "cell_type": "markdown",
   "id": "def82738",
   "metadata": {},
   "source": [
    "## Reprezentacija Markovljevog procesa"
   ]
  },
  {
   "cell_type": "code",
   "execution_count": 1,
   "id": "56c4d709",
   "metadata": {},
   "outputs": [],
   "source": [
    "import numpy as np"
   ]
  },
  {
   "cell_type": "code",
   "execution_count": 2,
   "id": "ad36bb4b",
   "metadata": {},
   "outputs": [],
   "source": [
    "n_states = 3\n",
    "n_actions = 3"
   ]
  },
  {
   "cell_type": "code",
   "execution_count": 3,
   "id": "47840549",
   "metadata": {},
   "outputs": [
    {
     "data": {
      "text/plain": [
       "[[[0.7, 0.3, 0], [1.0, 0, 0], [0.8, 0.2, 0]],\n",
       " [[0, 1.0, 0], None, [0, 0, 1.0]],\n",
       " [None, [0.8, 0.1, 0.1], None]]"
      ]
     },
     "execution_count": 3,
     "metadata": {},
     "output_type": "execute_result"
    }
   ],
   "source": [
    "T = [\n",
    "    # a0               a1                 a2\n",
    "    [[0.7 , 0.3 , 0] , [1.0 , 0 , 0] ,    [0.8 , 0.2 , 0]],# s0\n",
    "    [[0 , 1.0 , 0],    None,              [0 , 0 , 1.0]  ],# s1\n",
    "    [None,             [0.8 , 0.1 , 0.1], None           ] # s2\n",
    "]\n",
    "T"
   ]
  },
  {
   "cell_type": "code",
   "execution_count": 4,
   "id": "5ac56e13",
   "metadata": {},
   "outputs": [
    {
     "data": {
      "text/plain": [
       "[[0.7, 0.3, 0], [1.0, 0, 0], [0.8, 0.2, 0]]"
      ]
     },
     "execution_count": 4,
     "metadata": {},
     "output_type": "execute_result"
    }
   ],
   "source": [
    "T_s0 = T[0]\n",
    "T_s0"
   ]
  },
  {
   "cell_type": "code",
   "execution_count": 5,
   "id": "0da01e2a",
   "metadata": {},
   "outputs": [
    {
     "data": {
      "text/plain": [
       "[0.8, 0.2, 0]"
      ]
     },
     "execution_count": 5,
     "metadata": {},
     "output_type": "execute_result"
    }
   ],
   "source": [
    "T_s0_a2 = T_s0[2]\n",
    "T_s0_a2"
   ]
  },
  {
   "cell_type": "code",
   "execution_count": 6,
   "id": "b138b464",
   "metadata": {},
   "outputs": [
    {
     "data": {
      "text/plain": [
       "0.2"
      ]
     },
     "execution_count": 6,
     "metadata": {},
     "output_type": "execute_result"
    }
   ],
   "source": [
    "T_s0_a2_s1 = T_s0_a2[1]\n",
    "T_s0_a2_s1"
   ]
  },
  {
   "cell_type": "code",
   "execution_count": 7,
   "id": "884749ac",
   "metadata": {},
   "outputs": [
    {
     "data": {
      "text/plain": [
       "array([[[ 10.,   0.,   0.],\n",
       "        [  0.,   0.,   0.],\n",
       "        [  0.,   0.,   0.]],\n",
       "\n",
       "       [[  0.,   0.,   0.],\n",
       "        [  0.,   0.,   0.],\n",
       "        [  0.,   0., -50.]],\n",
       "\n",
       "       [[  0.,   0.,   0.],\n",
       "        [ 40.,   0.,   0.],\n",
       "        [  0.,   0.,   0.]]])"
      ]
     },
     "execution_count": 7,
     "metadata": {},
     "output_type": "execute_result"
    }
   ],
   "source": [
    "R = np.zeros(shape=(n_states , n_actions , n_states))\n",
    "R[0][0][0] = +10\n",
    "R[1][2][2] = -50\n",
    "R[2][1][0] = +40\n",
    "R"
   ]
  },
  {
   "cell_type": "markdown",
   "id": "168d6ead",
   "metadata": {},
   "source": [
    "## Q-iteracija"
   ]
  },
  {
   "cell_type": "code",
   "execution_count": 8,
   "id": "819650fb",
   "metadata": {},
   "outputs": [
    {
     "data": {
      "text/plain": [
       "array([[  0.,   0.,   0.],\n",
       "       [  0., -inf,   0.],\n",
       "       [-inf,   0., -inf]])"
      ]
     },
     "execution_count": 8,
     "metadata": {},
     "output_type": "execute_result"
    }
   ],
   "source": [
    "s_posible_actions = [[0 , 1 , 2],\n",
    "                     [0 , 2],\n",
    "                     [1]]\n",
    "Q_values = np.full(shape=(3,3) , fill_value=-np.inf)\n",
    "for state , actions in enumerate(s_posible_actions):\n",
    "    Q_values[state][actions] = 0.0\n",
    "    \n",
    "Q_values"
   ]
  },
  {
   "cell_type": "code",
   "execution_count": 9,
   "id": "a5344b2e",
   "metadata": {},
   "outputs": [],
   "source": [
    "gamma = 0.98"
   ]
  },
  {
   "cell_type": "code",
   "execution_count": 10,
   "id": "4b0e0342",
   "metadata": {},
   "outputs": [
    {
     "name": "stdout",
     "output_type": "stream",
     "text": [
      "Najbolji niz akcija: [0 2 1]\n",
      "Matrica Q-vrednosti:\n",
      "[[42.88147586 41.70278262 37.82191144]\n",
      " [22.29842674        -inf 23.08111272]\n",
      " [       -inf 74.90018004        -inf]]\n"
     ]
    }
   ],
   "source": [
    "n_iterations = 50\n",
    "\n",
    "for iteration in range(n_iterations):\n",
    "\n",
    "    Q_prev = Q_values.copy()\n",
    "\n",
    "    for s , a in ((s,a) for s in range(n_states) for a in s_posible_actions[s]):\n",
    "        Q_values[s][a] = np.sum([\n",
    "            T[s][a][sp] * (R[s][a][sp] + gamma * np.max(Q_prev[sp]))\n",
    "            for sp in range(n_states)\n",
    "        ])\n",
    "\n",
    "print(\"Najbolji niz akcija: \" + str(np.argmax(Q_values , axis = 1)))\n",
    "print(\"Matrica Q-vrednosti:\\n\" + str(Q_values))"
   ]
  }
 ],
 "metadata": {
  "kernelspec": {
   "display_name": "Python 3 (ipykernel)",
   "language": "python",
   "name": "python3"
  },
  "language_info": {
   "codemirror_mode": {
    "name": "ipython",
    "version": 3
   },
   "file_extension": ".py",
   "mimetype": "text/x-python",
   "name": "python",
   "nbconvert_exporter": "python",
   "pygments_lexer": "ipython3",
   "version": "3.10.4"
  }
 },
 "nbformat": 4,
 "nbformat_minor": 5
}

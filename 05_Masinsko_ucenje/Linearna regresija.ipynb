{
 "cells": [
  {
   "cell_type": "markdown",
   "id": "415a82aa",
   "metadata": {},
   "source": [
    "# Linearna regresija"
   ]
  },
  {
   "cell_type": "code",
   "execution_count": 1,
   "id": "ef671d88",
   "metadata": {},
   "outputs": [],
   "source": [
    "import numpy as np"
   ]
  },
  {
   "cell_type": "code",
   "execution_count": 2,
   "id": "1d95cffd",
   "metadata": {},
   "outputs": [],
   "source": [
    "import matplotlib.pyplot as plt"
   ]
  },
  {
   "cell_type": "code",
   "execution_count": 3,
   "id": "4a753870",
   "metadata": {},
   "outputs": [],
   "source": [
    "import pandas as pd"
   ]
  },
  {
   "cell_type": "markdown",
   "id": "0a4a9e3e",
   "metadata": {},
   "source": [
    "## Podaci"
   ]
  },
  {
   "cell_type": "code",
   "execution_count": 4,
   "id": "9e64ace4",
   "metadata": {},
   "outputs": [],
   "source": [
    "height=np.array([4.0, 4.5, 5.0, 5.2, 5.4, 5.8, 6.1, 6.2, 6.4, 6.8])\n",
    "weight=np.array([42, 44, 49, 55, 53, 58, 60, 64, 66, 69])"
   ]
  },
  {
   "cell_type": "markdown",
   "id": "c4d78505",
   "metadata": {},
   "source": [
    "## Treniranje modela korišćenjem formule\n",
    "\n",
    "$$\n",
    "w = (X^T \\cdot X)^{-1} \\cdot X^T \\cdot y\n",
    "$$"
   ]
  },
  {
   "cell_type": "code",
   "execution_count": 5,
   "id": "94966815",
   "metadata": {},
   "outputs": [],
   "source": [
    "def show_model(model):\n",
    "    return(f\"f(height) = {model[0]} + {model[1]} * height\")"
   ]
  },
  {
   "cell_type": "code",
   "execution_count": 6,
   "id": "a383337e",
   "metadata": {},
   "outputs": [
    {
     "name": "stdout",
     "output_type": "stream",
     "text": [
      "f(height) = -0.47266514806388216 + 10.193621867881543 * height\n"
     ]
    }
   ],
   "source": [
    "N = height.shape[0] # Broj instanci\n",
    "\n",
    "X = np.ones((N, 2))\n",
    "X[:, 1] = height\n",
    "y = weight\n",
    "\n",
    "w = np.linalg.inv(X.transpose().dot(X)).dot(X.transpose()).dot(y)\n",
    "print(show_model(w))"
   ]
  },
  {
   "cell_type": "markdown",
   "id": "36012e6d",
   "metadata": {},
   "source": [
    "Dobijenu pravu možemo vizuelizovati."
   ]
  },
  {
   "cell_type": "code",
   "execution_count": 7,
   "id": "67dbf2c8",
   "metadata": {},
   "outputs": [
    {
     "data": {
      "text/plain": [
       "<matplotlib.legend.Legend at 0x7f2e1b6715d0>"
      ]
     },
     "execution_count": 7,
     "metadata": {},
     "output_type": "execute_result"
    },
    {
     "data": {
      "image/png": "[encoded data removed]",
      "text/plain": [
       "<Figure size 432x288 with 1 Axes>"
      ]
     },
     "metadata": {
      "needs_background": "light"
     },
     "output_type": "display_data"
    }
   ],
   "source": [
    "x1 = min(height)\n",
    "x2 = max(height)\n",
    "y1 = w[0] + w[1] * x1\n",
    "y2 = w[0] + w[1] * x2\n",
    "plt.scatter(height, weight, color=\"red\", marker='x')\n",
    "plt.plot([x1, x2], [y1, y2], color=\"blue\")\n",
    "plt.legend([\"Trening skup\", \"Model dobijen linearnom regresijom\"])"
   ]
  },
  {
   "cell_type": "markdown",
   "id": "b32cb8a9",
   "metadata": {},
   "source": [
    "## Treniranje modela korišćenjem biblioteke"
   ]
  },
  {
   "cell_type": "code",
   "execution_count": 8,
   "id": "8e9b2793",
   "metadata": {},
   "outputs": [],
   "source": [
    "from sklearn.linear_model import LinearRegression"
   ]
  },
  {
   "cell_type": "code",
   "execution_count": 9,
   "id": "f9e5db09",
   "metadata": {},
   "outputs": [],
   "source": [
    "def show_model(model):\n",
    "    return f\"f(height) = {model.intercept_} + {model.coef_[0]} * height\""
   ]
  },
  {
   "cell_type": "code",
   "execution_count": 10,
   "id": "3e28a836",
   "metadata": {},
   "outputs": [],
   "source": [
    "X = pd.DataFrame(height)\n",
    "y = pd.DataFrame(weight)"
   ]
  },
  {
   "cell_type": "code",
   "execution_count": 11,
   "id": "6735b5eb",
   "metadata": {},
   "outputs": [
    {
     "name": "stdout",
     "output_type": "stream",
     "text": [
      "f(height) = [-0.47266515] + [10.19362187] * height\n"
     ]
    }
   ],
   "source": [
    "model =  LinearRegression()\n",
    "model.fit(X,y)\n",
    "\n",
    "model.coef_\n",
    "print(show_model(model))"
   ]
  },
  {
   "cell_type": "code",
   "execution_count": 12,
   "id": "8c0bbd3e",
   "metadata": {},
   "outputs": [
    {
     "data": {
      "text/plain": [
       "<matplotlib.legend.Legend at 0x7f2e04e5e890>"
      ]
     },
     "execution_count": 12,
     "metadata": {},
     "output_type": "execute_result"
    },
    {
     "data": {
      "image/png": "[encoded data removed]",
      "text/plain": [
       "<Figure size 432x288 with 1 Axes>"
      ]
     },
     "metadata": {
      "needs_background": "light"
     },
     "output_type": "display_data"
    }
   ],
   "source": [
    "prediction = model.predict(X)\n",
    "plt.plot(X, prediction, marker='o', color=\"blue\")\n",
    "plt.scatter(X, y, marker='x', color=\"red\")\n",
    "plt.legend([\"Model dobijen linearnom regresiojom\", \"Trening skup\"])"
   ]
  },
  {
   "cell_type": "markdown",
   "id": "7749f3a3",
   "metadata": {},
   "source": [
    "# Zadatak auto-mpg.csv"
   ]
  },
  {
   "cell_type": "markdown",
   "id": "8e6949ec",
   "metadata": {},
   "source": [
    "## Podaci"
   ]
  },
  {
   "cell_type": "code",
   "execution_count": 13,
   "id": "eb611bd4",
   "metadata": {
    "scrolled": true
   },
   "outputs": [
    {
     "data": {
      "text/html": [
       "<div>\n",
       "<style scoped>\n",
       "    .dataframe tbody tr th:only-of-type {\n",
       "        vertical-align: middle;\n",
       "    }\n",
       "\n",
       "    .dataframe tbody tr th {\n",
       "        vertical-align: top;\n",
       "    }\n",
       "\n",
       "    .dataframe thead th {\n",
       "        text-align: right;\n",
       "    }\n",
       "</style>\n",
       "<table border=\"1\" class=\"dataframe\">\n",
       "  <thead>\n",
       "    <tr style=\"text-align: right;\">\n",
       "      <th></th>\n",
       "      <th>mpg</th>\n",
       "      <th>cylinders</th>\n",
       "      <th>displacement</th>\n",
       "      <th>horsepower</th>\n",
       "      <th>weight</th>\n",
       "      <th>acceleration</th>\n",
       "      <th>model-year</th>\n",
       "    </tr>\n",
       "  </thead>\n",
       "  <tbody>\n",
       "    <tr>\n",
       "      <th>0</th>\n",
       "      <td>18.0</td>\n",
       "      <td>8</td>\n",
       "      <td>307.0</td>\n",
       "      <td>130.0</td>\n",
       "      <td>3504</td>\n",
       "      <td>12.0</td>\n",
       "      <td>70</td>\n",
       "    </tr>\n",
       "    <tr>\n",
       "      <th>1</th>\n",
       "      <td>15.0</td>\n",
       "      <td>8</td>\n",
       "      <td>350.0</td>\n",
       "      <td>165.0</td>\n",
       "      <td>3693</td>\n",
       "      <td>11.5</td>\n",
       "      <td>70</td>\n",
       "    </tr>\n",
       "    <tr>\n",
       "      <th>2</th>\n",
       "      <td>18.0</td>\n",
       "      <td>8</td>\n",
       "      <td>318.0</td>\n",
       "      <td>150.0</td>\n",
       "      <td>3436</td>\n",
       "      <td>11.0</td>\n",
       "      <td>70</td>\n",
       "    </tr>\n",
       "    <tr>\n",
       "      <th>3</th>\n",
       "      <td>16.0</td>\n",
       "      <td>8</td>\n",
       "      <td>304.0</td>\n",
       "      <td>150.0</td>\n",
       "      <td>3433</td>\n",
       "      <td>12.0</td>\n",
       "      <td>70</td>\n",
       "    </tr>\n",
       "    <tr>\n",
       "      <th>4</th>\n",
       "      <td>17.0</td>\n",
       "      <td>8</td>\n",
       "      <td>302.0</td>\n",
       "      <td>140.0</td>\n",
       "      <td>3449</td>\n",
       "      <td>10.5</td>\n",
       "      <td>70</td>\n",
       "    </tr>\n",
       "  </tbody>\n",
       "</table>\n",
       "</div>"
      ],
      "text/plain": [
       "    mpg  cylinders  displacement  horsepower  weight  acceleration  model-year\n",
       "0  18.0          8         307.0       130.0    3504          12.0          70\n",
       "1  15.0          8         350.0       165.0    3693          11.5          70\n",
       "2  18.0          8         318.0       150.0    3436          11.0          70\n",
       "3  16.0          8         304.0       150.0    3433          12.0          70\n",
       "4  17.0          8         302.0       140.0    3449          10.5          70"
      ]
     },
     "execution_count": 13,
     "metadata": {},
     "output_type": "execute_result"
    }
   ],
   "source": [
    "df = pd.read_csv(\"data/auto-mpg.csv\")\n",
    "df.head()"
   ]
  },
  {
   "cell_type": "code",
   "execution_count": 14,
   "id": "9a3d13f9",
   "metadata": {},
   "outputs": [
    {
     "data": {
      "text/plain": [
       "['cylinders',\n",
       " 'displacement',\n",
       " 'horsepower',\n",
       " 'weight',\n",
       " 'acceleration',\n",
       " 'model-year']"
      ]
     },
     "execution_count": 14,
     "metadata": {},
     "output_type": "execute_result"
    }
   ],
   "source": [
    "features = df.columns[1:]\n",
    "list(features)"
   ]
  },
  {
   "cell_type": "markdown",
   "id": "ec8d7f04",
   "metadata": {},
   "source": [
    "## Preprocesiranje"
   ]
  },
  {
   "cell_type": "markdown",
   "id": "0ae6233f",
   "metadata": {},
   "source": [
    "Proveravamo da li postoje nepostojaće vrednosti:"
   ]
  },
  {
   "cell_type": "code",
   "execution_count": 15,
   "id": "0213cb93",
   "metadata": {},
   "outputs": [
    {
     "data": {
      "text/plain": [
       "True"
      ]
     },
     "execution_count": 15,
     "metadata": {},
     "output_type": "execute_result"
    }
   ],
   "source": [
    "df.isna().any().any()"
   ]
  },
  {
   "cell_type": "markdown",
   "id": "66ed095a",
   "metadata": {},
   "source": [
    "Uklanjamo nepostojaće vrednosti:"
   ]
  },
  {
   "cell_type": "code",
   "execution_count": 16,
   "id": "5e634c39",
   "metadata": {},
   "outputs": [],
   "source": [
    "df = df.dropna()"
   ]
  },
  {
   "cell_type": "markdown",
   "id": "cf2c2407",
   "metadata": {},
   "source": [
    "## Treniranje modela"
   ]
  },
  {
   "cell_type": "code",
   "execution_count": 17,
   "id": "b7f7c5a6",
   "metadata": {},
   "outputs": [],
   "source": [
    "from sklearn.model_selection import train_test_split"
   ]
  },
  {
   "cell_type": "code",
   "execution_count": 18,
   "id": "163b1689",
   "metadata": {},
   "outputs": [
    {
     "name": "stdout",
     "output_type": "stream",
     "text": [
      "(396, 6)\n",
      "(396,)\n"
     ]
    }
   ],
   "source": [
    "y = df[\"mpg\"]\n",
    "X = df[features]\n",
    "print(X.shape)\n",
    "print(y.shape)"
   ]
  },
  {
   "cell_type": "code",
   "execution_count": 19,
   "id": "93440b0a",
   "metadata": {},
   "outputs": [
    {
     "name": "stdout",
     "output_type": "stream",
     "text": [
      "(277, 6)\n",
      "(277,)\n",
      "(119, 6)\n",
      "(119,)\n"
     ]
    }
   ],
   "source": [
    "X_train, X_test, y_train, y_test = train_test_split(X, y, test_size=0.3, random_state=42)\n",
    "print(X_train.shape)\n",
    "print(y_train.shape)\n",
    "print(X_test.shape)\n",
    "print(y_test.shape)"
   ]
  },
  {
   "cell_type": "code",
   "execution_count": 20,
   "id": "3736daa8",
   "metadata": {},
   "outputs": [
    {
     "name": "stdout",
     "output_type": "stream",
     "text": [
      "-11.817466164696476\n",
      "[-0.17649337 -0.0009074  -0.00221897 -0.00646204  0.00974422  0.73519636]\n"
     ]
    }
   ],
   "source": [
    "model = LinearRegression()\n",
    "model.fit(X_train, y_train)\n",
    "\n",
    "print(model.intercept_)\n",
    "print(model.coef_)"
   ]
  },
  {
   "cell_type": "markdown",
   "id": "4c74e4b8",
   "metadata": {},
   "source": [
    "## Evaluacija modela"
   ]
  },
  {
   "cell_type": "code",
   "execution_count": 21,
   "id": "1f300b78",
   "metadata": {},
   "outputs": [],
   "source": [
    "from sklearn.metrics import r2_score, mean_squared_error"
   ]
  },
  {
   "cell_type": "code",
   "execution_count": 22,
   "id": "4b3c4f8d",
   "metadata": {},
   "outputs": [],
   "source": [
    "test_predict = model.predict(X_test)\n",
    "train_predict = model.predict(X_train)"
   ]
  },
  {
   "cell_type": "code",
   "execution_count": 23,
   "id": "cd8d08d6",
   "metadata": {},
   "outputs": [
    {
     "name": "stdout",
     "output_type": "stream",
     "text": [
      "R2 train = 0.8103305795388757\n",
      "R2 test = 0.7922200316993446\n"
     ]
    }
   ],
   "source": [
    "print(f\"R2 train = {r2_score(y_train, train_predict)}\")\n",
    "print(f\"R2 test = {r2_score(y_test, test_predict)}\")"
   ]
  },
  {
   "cell_type": "code",
   "execution_count": 24,
   "id": "7791af76",
   "metadata": {},
   "outputs": [
    {
     "name": "stdout",
     "output_type": "stream",
     "text": [
      "MSE train = 12.321714546698447\n",
      "MSE test = 10.73369307205634\n"
     ]
    }
   ],
   "source": [
    "print(f\"MSE train = {mean_squared_error(y_train, train_predict)}\")\n",
    "print(f\"MSE test = {mean_squared_error(y_test, test_predict)}\")"
   ]
  },
  {
   "cell_type": "markdown",
   "id": "8155719d",
   "metadata": {},
   "source": [
    "Prosečna greška:"
   ]
  },
  {
   "cell_type": "code",
   "execution_count": 25,
   "id": "f2a64126",
   "metadata": {},
   "outputs": [
    {
     "name": "stdout",
     "output_type": "stream",
     "text": [
      "MSE train = 3.5102299848725647\n",
      "MSE test = 3.276231535172131\n"
     ]
    }
   ],
   "source": [
    "print(f\"MSE train = {np.sqrt(mean_squared_error(y_train, train_predict))}\")\n",
    "print(f\"MSE test = {np.sqrt(mean_squared_error(y_test, test_predict))}\")"
   ]
  }
 ],
 "metadata": {
  "kernelspec": {
   "display_name": "Python 3 (ipykernel)",
   "language": "python",
   "name": "python3"
  },
  "language_info": {
   "codemirror_mode": {
    "name": "ipython",
    "version": 3
   },
   "file_extension": ".py",
   "mimetype": "text/x-python",
   "name": "python",
   "nbconvert_exporter": "python",
   "pygments_lexer": "ipython3",
   "version": "3.10.4"
  }
 },
 "nbformat": 4,
 "nbformat_minor": 5
}
